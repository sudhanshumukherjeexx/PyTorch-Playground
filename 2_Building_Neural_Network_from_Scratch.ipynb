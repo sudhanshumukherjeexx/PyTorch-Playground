{
  "nbformat": 4,
  "nbformat_minor": 0,
  "metadata": {
    "colab": {
      "provenance": [],
      "authorship_tag": "ABX9TyNzFsN40rh2XVmfV/z7U+nq",
      "include_colab_link": true
    },
    "kernelspec": {
      "name": "python3",
      "display_name": "Python 3"
    },
    "language_info": {
      "name": "python"
    }
  },
  "cells": [
    {
      "cell_type": "markdown",
      "metadata": {
        "id": "view-in-github",
        "colab_type": "text"
      },
      "source": [
        "<a href=\"https://colab.research.google.com/github/sudhanshumukherjeexx/PyTorch-Playground/blob/main/2_Building_Neural_Network_from_Scratch.ipynb\" target=\"_parent\"><img src=\"https://colab.research.google.com/assets/colab-badge.svg\" alt=\"Open In Colab\"/></a>"
      ]
    },
    {
      "cell_type": "markdown",
      "source": [
        "# Building a Neural Network from Scratch Using PyTorch"
      ],
      "metadata": {
        "id": "JCA6TCjd9MSq"
      }
    },
    {
      "cell_type": "markdown",
      "source": [
        "#### 1. **Loading the Dataset (Input and Output)**\n",
        "\n",
        "- Importing the necessary libraries (PyTorch, torchvision).\n",
        "- Downloading and preparing the MNIST dataset (input: images, output: labels).\n",
        "- Visualizing some samples from the dataset.\n",
        "\n",
        "#### 2. **Architecture of the Model**\n",
        "\n",
        "- Defining the structure of the neural network (input layer, hidden layers, output layer).\n",
        "- Discussing activation functions (ReLU for hidden layers, softmax for the output layer).\n",
        "\n",
        "#### 3. **Initializing the Weights for All Layers**\n",
        "\n",
        "- Defining how weights are initialized.\n",
        "- Using PyTorch’s `nn.Module` class to manage layers and initialization.\n",
        "\n",
        "#### 4. **Implementing Forward Propagation**\n",
        "\n",
        "- Defining the forward pass function, which computes the output of the network given an input.\n",
        "- Computing the loss using cross-entropy loss.\n",
        "\n",
        "#### 5. **Implementing Backward Propagation**\n",
        "\n",
        "- Using PyTorch’s automatic differentiation to compute gradients.\n",
        "- Backpropagating errors to update weights.\n",
        "\n",
        "#### 6. **Training the Model for `n` Epochs**\n",
        "\n",
        "- Training the model using the dataset.\n",
        "- Updating weights using an optimizer (e.g., SGD or Adam).\n",
        "- Printing the loss after every epoch to track the learning progress.\n",
        "- Evaluating the model on the test set.\n",
        "\n",
        "#### 7. **Evaluating the Model**\n",
        "\n",
        "- Calculating accuracy on the test dataset.\n",
        "- Visualizing some test results (e.g., predicted vs. actual labels)."
      ],
      "metadata": {
        "id": "Uq2wT2Qj9G-p"
      }
    },
    {
      "cell_type": "markdown",
      "source": [
        "### 1. Loading the MNIST Dataset"
      ],
      "metadata": {
        "id": "p2_34d5693gp"
      }
    },
    {
      "cell_type": "code",
      "execution_count": 26,
      "metadata": {
        "id": "u-k1rJ5H9Fdn"
      },
      "outputs": [],
      "source": [
        "import torch\n",
        "import torch.nn as nn\n",
        "import torch.optim as optim\n",
        "import torchvision\n",
        "import torchvision.transforms as transforms\n",
        "import matplotlib.pyplot as plt\n",
        "import numpy as np"
      ]
    },
    {
      "cell_type": "code",
      "source": [
        "transform = transforms.Compose([transforms.ToTensor(), transforms.Normalize((0.5,), (0.5,))])"
      ],
      "metadata": {
        "id": "XB0kchFO91if"
      },
      "execution_count": 2,
      "outputs": []
    },
    {
      "cell_type": "code",
      "source": [
        "trainset = torchvision.datasets.MNIST(root='./data', train=True, download=True, transform=transform)\n",
        "trainloader = torch.utils.data.DataLoader(trainset, batch_size=32, shuffle=True)\n",
        "\n",
        "testset = torchvision.datasets.MNIST(root='./data', train=False, download=True, transform=transform)\n",
        "testloader = torch.utils.data.DataLoader(testset, batch_size=32, shuffle=True)"
      ],
      "metadata": {
        "colab": {
          "base_uri": "https://localhost:8080/"
        },
        "id": "_Ey1pzov-kIv",
        "outputId": "13ca6890-b5f4-47e6-ea39-114b1fd82da5"
      },
      "execution_count": 4,
      "outputs": [
        {
          "output_type": "stream",
          "name": "stdout",
          "text": [
            "Downloading http://yann.lecun.com/exdb/mnist/train-images-idx3-ubyte.gz\n",
            "Failed to download (trying next):\n",
            "<urlopen error [SSL: CERTIFICATE_VERIFY_FAILED] certificate verify failed: certificate has expired (_ssl.c:1007)>\n",
            "\n",
            "Downloading https://ossci-datasets.s3.amazonaws.com/mnist/train-images-idx3-ubyte.gz\n",
            "Downloading https://ossci-datasets.s3.amazonaws.com/mnist/train-images-idx3-ubyte.gz to ./data/MNIST/raw/train-images-idx3-ubyte.gz\n"
          ]
        },
        {
          "output_type": "stream",
          "name": "stderr",
          "text": [
            "100%|██████████| 9912422/9912422 [00:00<00:00, 38708531.60it/s]\n"
          ]
        },
        {
          "output_type": "stream",
          "name": "stdout",
          "text": [
            "Extracting ./data/MNIST/raw/train-images-idx3-ubyte.gz to ./data/MNIST/raw\n",
            "\n",
            "Downloading http://yann.lecun.com/exdb/mnist/train-labels-idx1-ubyte.gz\n",
            "Failed to download (trying next):\n",
            "<urlopen error [SSL: CERTIFICATE_VERIFY_FAILED] certificate verify failed: certificate has expired (_ssl.c:1007)>\n",
            "\n",
            "Downloading https://ossci-datasets.s3.amazonaws.com/mnist/train-labels-idx1-ubyte.gz\n",
            "Downloading https://ossci-datasets.s3.amazonaws.com/mnist/train-labels-idx1-ubyte.gz to ./data/MNIST/raw/train-labels-idx1-ubyte.gz\n"
          ]
        },
        {
          "output_type": "stream",
          "name": "stderr",
          "text": [
            "100%|██████████| 28881/28881 [00:00<00:00, 1163725.65it/s]"
          ]
        },
        {
          "output_type": "stream",
          "name": "stdout",
          "text": [
            "Extracting ./data/MNIST/raw/train-labels-idx1-ubyte.gz to ./data/MNIST/raw\n",
            "\n",
            "Downloading http://yann.lecun.com/exdb/mnist/t10k-images-idx3-ubyte.gz\n"
          ]
        },
        {
          "output_type": "stream",
          "name": "stderr",
          "text": [
            "\n"
          ]
        },
        {
          "output_type": "stream",
          "name": "stdout",
          "text": [
            "Failed to download (trying next):\n",
            "<urlopen error [SSL: CERTIFICATE_VERIFY_FAILED] certificate verify failed: certificate has expired (_ssl.c:1007)>\n",
            "\n",
            "Downloading https://ossci-datasets.s3.amazonaws.com/mnist/t10k-images-idx3-ubyte.gz\n",
            "Downloading https://ossci-datasets.s3.amazonaws.com/mnist/t10k-images-idx3-ubyte.gz to ./data/MNIST/raw/t10k-images-idx3-ubyte.gz\n"
          ]
        },
        {
          "output_type": "stream",
          "name": "stderr",
          "text": [
            "100%|██████████| 1648877/1648877 [00:00<00:00, 9683206.59it/s]\n"
          ]
        },
        {
          "output_type": "stream",
          "name": "stdout",
          "text": [
            "Extracting ./data/MNIST/raw/t10k-images-idx3-ubyte.gz to ./data/MNIST/raw\n",
            "\n",
            "Downloading http://yann.lecun.com/exdb/mnist/t10k-labels-idx1-ubyte.gz\n",
            "Failed to download (trying next):\n",
            "<urlopen error [SSL: CERTIFICATE_VERIFY_FAILED] certificate verify failed: certificate has expired (_ssl.c:1007)>\n",
            "\n",
            "Downloading https://ossci-datasets.s3.amazonaws.com/mnist/t10k-labels-idx1-ubyte.gz\n",
            "Downloading https://ossci-datasets.s3.amazonaws.com/mnist/t10k-labels-idx1-ubyte.gz to ./data/MNIST/raw/t10k-labels-idx1-ubyte.gz\n"
          ]
        },
        {
          "output_type": "stream",
          "name": "stderr",
          "text": [
            "100%|██████████| 4542/4542 [00:00<00:00, 2985976.30it/s]\n"
          ]
        },
        {
          "output_type": "stream",
          "name": "stdout",
          "text": [
            "Extracting ./data/MNIST/raw/t10k-labels-idx1-ubyte.gz to ./data/MNIST/raw\n",
            "\n"
          ]
        }
      ]
    },
    {
      "cell_type": "code",
      "source": [
        "train_size = len(trainset)\n",
        "test_size = len(testset)\n",
        "\n",
        "print(f'Size of training data: {train_size}')\n",
        "print(f'Size of test data: {test_size}')"
      ],
      "metadata": {
        "colab": {
          "base_uri": "https://localhost:8080/"
        },
        "id": "Twtx6z9KbwLE",
        "outputId": "64ecafdc-5cf7-42f3-ad50-b8cd1024890a"
      },
      "execution_count": 38,
      "outputs": [
        {
          "output_type": "stream",
          "name": "stdout",
          "text": [
            "Size of training data: 60000\n",
            "Size of test data: 10000\n"
          ]
        }
      ]
    },
    {
      "cell_type": "code",
      "source": [
        "dataiter = iter(trainloader)\n",
        "images, labels = next(dataiter)\n",
        "plt.imshow(images[0].numpy().squeeze(), cmap='gray_r')\n",
        "plt.title(f'Label: {labels[0]}')\n",
        "plt.show()"
      ],
      "metadata": {
        "colab": {
          "base_uri": "https://localhost:8080/",
          "height": 452
        },
        "id": "I4yHmUu4_rkY",
        "outputId": "0abcadbc-c171-42e2-f45d-601958702e6e"
      },
      "execution_count": 15,
      "outputs": [
        {
          "output_type": "display_data",
          "data": {
            "text/plain": [
              "<Figure size 640x480 with 1 Axes>"
            ],
            "image/png": "[encoded data removed]"
          },
          "metadata": {}
        }
      ]
    },
    {
      "cell_type": "markdown",
      "source": [
        "### 2. Defining the Neural Network Architecture"
      ],
      "metadata": {
        "id": "WTBfR0Q_BhuY"
      }
    },
    {
      "cell_type": "code",
      "source": [
        "class NeuralNetwork(nn.Module):\n",
        "  def __init__(self):\n",
        "    super(NeuralNetwork, self).__init__()\n",
        "    self.fc1 = nn.Linear(28*28, 128) # 1st HL input: 28x28 pixels and output:128 neurons\n",
        "    self.fc2 = nn.Linear(128, 64)    # 2nd HL input: 128 neurons and output: 64 neurons\n",
        "    self.fc3 = nn.Linear(64, 10)     # Output Layer input: 64 neurons and output: 10 classes\n",
        "\n",
        "  def forward(self, x):\n",
        "    x = x.view(-1, 28*28)            # flatten images 28x28 to 1D vector\n",
        "    x = torch.relu(self.fc1(x))      # ReLU\n",
        "    x = torch.relu(self.fc2(x))      # ReLU\n",
        "    x = self.fc3(x)                  # raw scores\n",
        "    return x\n",
        "\n",
        "model = NeuralNetwork()\n",
        "print(model)"
      ],
      "metadata": {
        "colab": {
          "base_uri": "https://localhost:8080/"
        },
        "id": "lupOlJB0A63b",
        "outputId": "410f6c0e-9d2e-429c-b52f-2e5be7b95aef"
      },
      "execution_count": 16,
      "outputs": [
        {
          "output_type": "stream",
          "name": "stdout",
          "text": [
            "NeuralNetwork(\n",
            "  (fc1): Linear(in_features=784, out_features=128, bias=True)\n",
            "  (fc2): Linear(in_features=128, out_features=64, bias=True)\n",
            "  (fc3): Linear(in_features=64, out_features=10, bias=True)\n",
            ")\n"
          ]
        }
      ]
    },
    {
      "cell_type": "markdown",
      "source": [
        "### 3. Intializing Weights\n",
        "\n",
        "- PyTorch initializes weights automatically using methods like Kaiming or Xavier initialization depending on the layer type.\n",
        "- Can also intialized manually"
      ],
      "metadata": {
        "id": "8mpqK36FFHPQ"
      }
    },
    {
      "cell_type": "code",
      "source": [
        "def init_weights(m):\n",
        "  if type(m) == nn.Linear:\n",
        "    torch.nn.init.xavier_uniform_(m.weight)\n",
        "\n",
        "model.apply(init_weights)"
      ],
      "metadata": {
        "colab": {
          "base_uri": "https://localhost:8080/"
        },
        "id": "NkIAF_f6FFrg",
        "outputId": "bb401267-3b6b-498b-cdd2-4711498fb913"
      },
      "execution_count": 17,
      "outputs": [
        {
          "output_type": "execute_result",
          "data": {
            "text/plain": [
              "NeuralNetwork(\n",
              "  (fc1): Linear(in_features=784, out_features=128, bias=True)\n",
              "  (fc2): Linear(in_features=128, out_features=64, bias=True)\n",
              "  (fc3): Linear(in_features=64, out_features=10, bias=True)\n",
              ")"
            ]
          },
          "metadata": {},
          "execution_count": 17
        }
      ]
    },
    {
      "cell_type": "markdown",
      "source": [
        "### 4. Implementing Forward Propogation"
      ],
      "metadata": {
        "id": "4NQHa-bLGXx0"
      }
    },
    {
      "cell_type": "code",
      "source": [
        "criterion =  nn.CrossEntropyLoss()  # loss fucntion\n",
        "\n",
        "# forward pass with random batch of images\n",
        "images, labels = next(iter(trainloader))\n",
        "outputs = model(images)\n",
        "loss = criterion(outputs, labels)\n",
        "print(f'Intial Loss: {loss.item()}')"
      ],
      "metadata": {
        "colab": {
          "base_uri": "https://localhost:8080/"
        },
        "id": "efQHeuGHGPtR",
        "outputId": "684163d6-87bc-4faa-c351-74252cc40041"
      },
      "execution_count": 22,
      "outputs": [
        {
          "output_type": "stream",
          "name": "stdout",
          "text": [
            "Intial Loss: 2.3255362510681152\n"
          ]
        }
      ]
    },
    {
      "cell_type": "markdown",
      "source": [
        "### Backward Propogation\n",
        "- Handled using `backward()`"
      ],
      "metadata": {
        "id": "dzSGPoc2HSqE"
      }
    },
    {
      "cell_type": "code",
      "source": [
        "# Zero the parameter gradients\n",
        "optimizer = optim.SGD(model.parameters(), lr=0.01)\n",
        "\n",
        "# Forward pass\n",
        "outputs = model(images)\n",
        "loss = criterion(outputs, labels)\n",
        "\n",
        "# Backward pass\n",
        "loss.backward()\n",
        "\n",
        "# update weights\n",
        "optimizer.step()\n",
        "\n",
        "print(f'Updated Loss: {loss.item()}')"
      ],
      "metadata": {
        "colab": {
          "base_uri": "https://localhost:8080/"
        },
        "id": "9_7LZD19HD4-",
        "outputId": "16c7778e-f56f-4c82-b5ae-65e7d3df3df4"
      },
      "execution_count": 23,
      "outputs": [
        {
          "output_type": "stream",
          "name": "stdout",
          "text": [
            "Updated Loss: 2.3255362510681152\n"
          ]
        }
      ]
    },
    {
      "cell_type": "markdown",
      "source": [
        "### Model Training for `n` EPOCHS"
      ],
      "metadata": {
        "id": "dGZhPpX0JyqR"
      }
    },
    {
      "cell_type": "code",
      "source": [
        "epochs = 10\n",
        "for epoch in range(epochs):\n",
        "  running_loss = 0.0\n",
        "  for images, labels in trainloader:\n",
        "    optimizer.zero_grad()\n",
        "\n",
        "    outputs = model(images)\n",
        "    loss = criterion(outputs, labels)\n",
        "\n",
        "    loss.backward()\n",
        "    optimizer.step()\n",
        "\n",
        "    running_loss += loss.item()\n",
        "\n",
        "  print(f'Epoch [{epoch+1}/{epochs}], Loss: {running_loss/len(trainloader):.4f}')\n",
        "\n",
        "print('Finished Training')"
      ],
      "metadata": {
        "colab": {
          "base_uri": "https://localhost:8080/"
        },
        "id": "y9i7ib_BJvtO",
        "outputId": "f700b3c7-9548-4d8e-c29f-e3f2db681569"
      },
      "execution_count": 24,
      "outputs": [
        {
          "output_type": "stream",
          "name": "stdout",
          "text": [
            "Epoch [1/10], Loss: 0.4489\n",
            "Epoch [2/10], Loss: 0.2510\n",
            "Epoch [3/10], Loss: 0.2007\n",
            "Epoch [4/10], Loss: 0.1681\n",
            "Epoch [5/10], Loss: 0.1447\n",
            "Epoch [6/10], Loss: 0.1272\n",
            "Epoch [7/10], Loss: 0.1139\n",
            "Epoch [8/10], Loss: 0.1035\n",
            "Epoch [9/10], Loss: 0.0942\n",
            "Epoch [10/10], Loss: 0.0861\n",
            "Finished Training\n"
          ]
        }
      ]
    },
    {
      "cell_type": "markdown",
      "source": [
        "### 7. Evaluating the Model"
      ],
      "metadata": {
        "id": "huRW5DveN6qY"
      }
    },
    {
      "cell_type": "code",
      "source": [
        "correct = 0\n",
        "total = 0\n",
        "with torch.no_grad():\n",
        "  for images, labels in testloader:\n",
        "    outputs = model(images)\n",
        "    _, predicted = torch.max(outputs.data, 1)\n",
        "    total += labels.size(0)\n",
        "    correct += (predicted == labels).sum().item()\n",
        "\n",
        "accuracy = 100 * correct/total\n",
        "print(f'Accuracy of the Network on test images: {accuracy:.2f}%')"
      ],
      "metadata": {
        "colab": {
          "base_uri": "https://localhost:8080/"
        },
        "id": "timadWEfMjgN",
        "outputId": "2f55a0e5-1ce5-4df7-ed79-e4fbbaa2fb69"
      },
      "execution_count": 25,
      "outputs": [
        {
          "output_type": "stream",
          "name": "stdout",
          "text": [
            "Accuracy of the Network on test images: 96.84%\n"
          ]
        }
      ]
    },
    {
      "cell_type": "markdown",
      "source": [
        "### 8. Visualizing Test Results"
      ],
      "metadata": {
        "id": "wyQRTsZvPEIq"
      }
    },
    {
      "cell_type": "code",
      "source": [
        "dataiter = iter(testloader)\n",
        "images, labels = next(dataiter)\n",
        "\n",
        "outputs = model(images)\n",
        "_, predicted = torch.max(outputs, 1)\n",
        "\n",
        "fig,axes = plt.subplots(1,5, figsize=(12,4))\n",
        "for i in range(5):\n",
        "  ax = axes[i]\n",
        "  ax.imshow(images[i].numpy().squeeze(), cmap='gray_r')\n",
        "  ax.set_title(f'Predicted: {predicted[i]}\\nActual: {labels[i]}')\n",
        "  ax.axis('off')\n",
        "plt.show()"
      ],
      "metadata": {
        "colab": {
          "base_uri": "https://localhost:8080/",
          "height": 240
        },
        "id": "Kbo3pPd9O97G",
        "outputId": "7c1d2a27-374b-4dec-d6d0-8414a6050639"
      },
      "execution_count": 33,
      "outputs": [
        {
          "output_type": "display_data",
          "data": {
            "text/plain": [
              "<Figure size 1200x400 with 5 Axes>"
            ],
            "image/png": "[encoded data removed]"
          },
          "metadata": {}
        }
      ]
    },
    {
      "cell_type": "code",
      "source": [],
      "metadata": {
        "id": "RtT3t3H-QWA8"
      },
      "execution_count": null,
      "outputs": []
    }
  ]
}