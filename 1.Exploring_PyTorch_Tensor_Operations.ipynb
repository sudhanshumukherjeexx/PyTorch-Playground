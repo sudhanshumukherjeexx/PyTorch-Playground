{
  "nbformat": 4,
  "nbformat_minor": 0,
  "metadata": {
    "colab": {
      "provenance": [],
      "authorship_tag": "ABX9TyPABoI3z6Kc3+2/avpFZY41",
      "include_colab_link": true
    },
    "kernelspec": {
      "name": "python3",
      "display_name": "Python 3"
    },
    "language_info": {
      "name": "python"
    }
  },
  "cells": [
    {
      "cell_type": "markdown",
      "metadata": {
        "id": "view-in-github",
        "colab_type": "text"
      },
      "source": [
        "<a href=\"https://colab.research.google.com/github/sudhanshumukherjeexx/PyTorch-Playground/blob/main/1.Exploring_PyTorch_Tensor_Operations.ipynb\" target=\"_parent\"><img src=\"https://colab.research.google.com/assets/colab-badge.svg\" alt=\"Open In Colab\"/></a>"
      ]
    },
    {
      "cell_type": "markdown",
      "source": [
        "Programmed by Sudhanshu Mukherjee\n",
        "* 10-15-2024: Collab Notebook\n",
        "* 10-29-2024: Notebook updated with text"
      ],
      "metadata": {
        "id": "SUDQx0zNcx9e"
      }
    },
    {
      "cell_type": "markdown",
      "source": [
        "In this notebook, we are going to cover PyTorch Tensor Operations and cover the topics mentioned below:\n",
        "#### 1. **Initializing Tensors**\n",
        "\n",
        "1.1 Initializing 1D tensor  \n",
        "1.2 Initializing 2D tensor  \n",
        "1.3 Initializing 3D tensor  \n",
        "1.4 Randomly initializing tensors  \n",
        "1.5 Initializing tensors with specific values (e.g., all zeros, all ones, identity matrix, etc.)  \n",
        "1.6 Initializing tensors with data types (int, float, etc.)\n",
        "\n",
        "#### 2. **Mathematical Operations on Tensors**\n",
        "\n",
        "2.1 Element-wise addition, subtraction, multiplication, and division  \n",
        "2.2 Exponentiation and logarithms  \n",
        "2.3 Summation and mean  \n",
        "2.4 Max and min values, and their indices  \n",
        "2.5 Broadcasting in tensor operations\n",
        "\n",
        "#### 3. **Matrix Operations in PyTorch**\n",
        "\n",
        "3.1 Matrix addition  \n",
        "3.2 Matrix subtraction  \n",
        "3.3 Matrix multiplication (element-wise and matrix product)  \n",
        "3.4 Matrix division  \n",
        "3.5 Transpose of a matrix  \n",
        "3.6 Matrix inverse and determinant  \n",
        "3.7 Reshaping and flattening tensors  \n",
        "3.8 Slicing and indexing tensors\n",
        "\n",
        "#### 4. **Tensor Concatenation and Stacking**\n",
        "\n",
        "4.1 Concatenating tensors along different dimensions  \n",
        "4.2 Stacking tensors vertically and horizontally\n",
        "\n",
        "#### 5. **Converting between PyTorch Tensors and NumPy Arrays**\n",
        "\n",
        "5.1 Converting NumPy arrays to PyTorch tensors  \n",
        "5.2 Converting PyTorch tensors to NumPy arrays\n",
        "\n",
        "#### 6. **Automatic Differentiation with PyTorch**\n",
        "\n",
        "6.1 Creating tensors with `requires_grad=True`  \n",
        "6.2 Computing gradients with `backward()`"
      ],
      "metadata": {
        "id": "6M19HLfiEwPg"
      }
    },
    {
      "cell_type": "markdown",
      "source": [
        "### 1. Initializing Tensors"
      ],
      "metadata": {
        "id": "5inUoSycLMo5"
      }
    },
    {
      "cell_type": "code",
      "execution_count": null,
      "metadata": {
        "id": "OXvbsiVxEE0L"
      },
      "outputs": [],
      "source": [
        "import torch\n",
        "import numpy as np"
      ]
    },
    {
      "cell_type": "markdown",
      "source": [
        "- Intializing 1D, 2D, 3D tensors"
      ],
      "metadata": {
        "id": "6Zqak0lMGY3k"
      }
    },
    {
      "cell_type": "code",
      "source": [
        "tensor_1d = torch.tensor([1, 2, 3])\n",
        "tensor_2d = torch.tensor([[1,2], [3,4]])\n",
        "tensor_3d = torch.tensor([[[1,2], [3,4]],[[5,6], [7,8]]])\n",
        "\n",
        "print(f\"1D Tensor:\\n{tensor_1d}\\n\\n 2D Tensor:\\n{tensor_2d}\\n\\n 3D Tensor:\\n{tensor_3d}\")"
      ],
      "metadata": {
        "colab": {
          "base_uri": "https://localhost:8080/"
        },
        "id": "E_Cz4z7wGRIo",
        "outputId": "7c4b5d22-acd6-4e38-998a-3fbadeb98ddb"
      },
      "execution_count": null,
      "outputs": [
        {
          "output_type": "stream",
          "name": "stdout",
          "text": [
            "1D Tensor:\n",
            "tensor([1, 2, 3])\n",
            "\n",
            " 2D Tensor:\n",
            "tensor([[1, 2],\n",
            "        [3, 4]])\n",
            "\n",
            " 3D Tensor:\n",
            "tensor([[[1, 2],\n",
            "         [3, 4]],\n",
            "\n",
            "        [[5, 6],\n",
            "         [7, 8]]])\n"
          ]
        }
      ]
    },
    {
      "cell_type": "markdown",
      "source": [
        "- Randomly Intialized Tensors"
      ],
      "metadata": {
        "id": "yIS-9c-8H8NT"
      }
    },
    {
      "cell_type": "code",
      "source": [
        "rand_tensor = torch.rand(3,3)\n",
        "print(f\"Random Tensor:\\n {rand_tensor}\")"
      ],
      "metadata": {
        "colab": {
          "base_uri": "https://localhost:8080/"
        },
        "id": "prjWFqyDHbsI",
        "outputId": "7bf5c859-66ef-494d-cc32-23c9f04890e6"
      },
      "execution_count": null,
      "outputs": [
        {
          "output_type": "stream",
          "name": "stdout",
          "text": [
            "Random Tensor:\n",
            " tensor([[0.5065, 0.1717, 0.6168],\n",
            "        [0.7226, 0.9002, 0.1678],\n",
            "        [0.9238, 0.8586, 0.9715]])\n"
          ]
        }
      ]
    },
    {
      "cell_type": "markdown",
      "source": [
        "- Tensors Intialized with Specific values"
      ],
      "metadata": {
        "id": "n-5g6m7lIZBy"
      }
    },
    {
      "cell_type": "code",
      "source": [
        "zero_tensor = torch.zeros(3,3)\n",
        "one_tensor = torch.ones(3,3)\n",
        "identity_tensor = torch.eye(3)\n",
        "\n",
        "\n",
        "print(f\"Zeros Tensor:\\n{zero_tensor}\\n\\n Ones Tensor:\\n{one_tensor}\\n\\n Identity Tensor:\\n{identity_tensor}\")"
      ],
      "metadata": {
        "colab": {
          "base_uri": "https://localhost:8080/"
        },
        "id": "hsHzOrfuIPSo",
        "outputId": "3b43c2d0-0b9f-463d-8564-137aac7bec65"
      },
      "execution_count": null,
      "outputs": [
        {
          "output_type": "stream",
          "name": "stdout",
          "text": [
            "Zeros Tensor:\n",
            "tensor([[0., 0., 0.],\n",
            "        [0., 0., 0.],\n",
            "        [0., 0., 0.]])\n",
            "\n",
            " Ones Tensor:\n",
            "tensor([[1., 1., 1.],\n",
            "        [1., 1., 1.],\n",
            "        [1., 1., 1.]])\n",
            "\n",
            " Identity Tensor:\n",
            "tensor([[1., 0., 0.],\n",
            "        [0., 1., 0.],\n",
            "        [0., 0., 1.]])\n"
          ]
        }
      ]
    },
    {
      "cell_type": "markdown",
      "source": [
        "- Tensors with Specific Data Types"
      ],
      "metadata": {
        "id": "fd_Gg7GfJazT"
      }
    },
    {
      "cell_type": "code",
      "source": [
        "float_tensor = torch.tensor([1.0, 2.0, 3.0], dtype=torch.float32)\n",
        "int_tensor = torch.tensor([1, 2, 3], dtype=torch.int32)\n",
        "\n",
        "print(f\"Float Tensor:\\n{float_tensor}\\n\\n Int Tensor:\\n{int_tensor}\")"
      ],
      "metadata": {
        "colab": {
          "base_uri": "https://localhost:8080/"
        },
        "id": "a6tR1eh6JX-i",
        "outputId": "75cf78ee-3617-494c-ae32-36e9b735b38f"
      },
      "execution_count": null,
      "outputs": [
        {
          "output_type": "stream",
          "name": "stdout",
          "text": [
            "Float Tensor:\n",
            "tensor([1., 2., 3.])\n",
            "\n",
            " Int Tensor:\n",
            "tensor([1, 2, 3], dtype=torch.int32)\n"
          ]
        }
      ]
    },
    {
      "cell_type": "markdown",
      "source": [
        "### 2. Mathematical Operations on Tensors"
      ],
      "metadata": {
        "id": "q_iEnX89Lgcd"
      }
    },
    {
      "cell_type": "markdown",
      "source": [
        "- Element-wise Operations"
      ],
      "metadata": {
        "id": "o6Z1n_U4MUtk"
      }
    },
    {
      "cell_type": "code",
      "source": [
        "a = torch.tensor([1, 2, 3], dtype=torch.float32)\n",
        "b = torch.tensor([4, 5, 6], dtype=torch.float32)\n",
        "\n",
        "print(f\"Addition: {a + b}\")"
      ],
      "metadata": {
        "colab": {
          "base_uri": "https://localhost:8080/"
        },
        "id": "cepKAjugJX7B",
        "outputId": "b2c32809-f2fb-4e8a-aeb0-30000b229502"
      },
      "execution_count": null,
      "outputs": [
        {
          "output_type": "stream",
          "name": "stdout",
          "text": [
            "Addition: tensor([5., 7., 9.])\n"
          ]
        }
      ]
    },
    {
      "cell_type": "code",
      "source": [
        "print(f\"Subtraction: {a - b}\")"
      ],
      "metadata": {
        "colab": {
          "base_uri": "https://localhost:8080/"
        },
        "id": "SXynWAqZJXpf",
        "outputId": "6bb14ae5-57e2-423d-f828-5800eaaf7479"
      },
      "execution_count": null,
      "outputs": [
        {
          "output_type": "stream",
          "name": "stdout",
          "text": [
            "Subtraction: tensor([-3., -3., -3.])\n"
          ]
        }
      ]
    },
    {
      "cell_type": "code",
      "source": [
        "print(f\"Multiplication: {a * b}\")"
      ],
      "metadata": {
        "colab": {
          "base_uri": "https://localhost:8080/"
        },
        "id": "EsGj0fbKMDXC",
        "outputId": "973ac6c6-ebac-4ef8-c631-185b46bfff49"
      },
      "execution_count": null,
      "outputs": [
        {
          "output_type": "stream",
          "name": "stdout",
          "text": [
            "Multiplication: tensor([ 4., 10., 18.])\n"
          ]
        }
      ]
    },
    {
      "cell_type": "code",
      "source": [
        "print(f\"Division: {a / b}\")"
      ],
      "metadata": {
        "colab": {
          "base_uri": "https://localhost:8080/"
        },
        "id": "8Rnwkqp9MI_-",
        "outputId": "02379e9b-9bf9-42a6-ba95-a3d7f0a3b65f"
      },
      "execution_count": null,
      "outputs": [
        {
          "output_type": "stream",
          "name": "stdout",
          "text": [
            "Division: tensor([0.2500, 0.4000, 0.5000])\n"
          ]
        }
      ]
    },
    {
      "cell_type": "code",
      "source": [
        "print(f\"Raising to a Power of 2: {a ** 2}\")"
      ],
      "metadata": {
        "colab": {
          "base_uri": "https://localhost:8080/"
        },
        "id": "Z2uiumLONoKJ",
        "outputId": "e8e21fc7-558e-4733-df14-63cb0bc79f90"
      },
      "execution_count": null,
      "outputs": [
        {
          "output_type": "stream",
          "name": "stdout",
          "text": [
            "Raising to a Power of 2: tensor([1., 4., 9.])\n"
          ]
        }
      ]
    },
    {
      "cell_type": "code",
      "source": [
        "print(f\"Applying Sin element-wise: {torch.sin(a)}\")"
      ],
      "metadata": {
        "colab": {
          "base_uri": "https://localhost:8080/"
        },
        "id": "ze9s6fyQOXLU",
        "outputId": "0c99fa54-d87e-49ab-b952-c7b316b6c150"
      },
      "execution_count": null,
      "outputs": [
        {
          "output_type": "stream",
          "name": "stdout",
          "text": [
            "Applying Sin element-wise: tensor([0.8415, 0.9093, 0.1411])\n"
          ]
        }
      ]
    },
    {
      "cell_type": "code",
      "source": [
        "print(f\"Boolean Tests: {a == 10}\")"
      ],
      "metadata": {
        "colab": {
          "base_uri": "https://localhost:8080/"
        },
        "id": "aU39kFMSOqb_",
        "outputId": "d3d8b5b6-da05-4d92-f3d0-e952c4de8a7d"
      },
      "execution_count": null,
      "outputs": [
        {
          "output_type": "stream",
          "name": "stdout",
          "text": [
            "Boolean Tests: tensor([False, False, False])\n"
          ]
        }
      ]
    },
    {
      "cell_type": "code",
      "source": [
        "print(f\"Boolean Tests: {a < 10}\")"
      ],
      "metadata": {
        "colab": {
          "base_uri": "https://localhost:8080/"
        },
        "id": "0MXK3ZH-O3Hg",
        "outputId": "375f605d-7f63-46e0-d2a4-21aabe55d460"
      },
      "execution_count": null,
      "outputs": [
        {
          "output_type": "stream",
          "name": "stdout",
          "text": [
            "Boolean Tests: tensor([True, True, True])\n"
          ]
        }
      ]
    },
    {
      "cell_type": "code",
      "source": [
        "print(f\"AND operator: {(b<10) & (b>=2)}\")"
      ],
      "metadata": {
        "colab": {
          "base_uri": "https://localhost:8080/"
        },
        "id": "oDweFjRXO8Av",
        "outputId": "0555ab6e-a047-4b0b-e6e5-479fe153a0df"
      },
      "execution_count": null,
      "outputs": [
        {
          "output_type": "stream",
          "name": "stdout",
          "text": [
            "AND operator: tensor([True, True, True])\n"
          ]
        }
      ]
    },
    {
      "cell_type": "markdown",
      "source": [
        "- Exponentiation and logarithm"
      ],
      "metadata": {
        "id": "yDZabOFyMe4o"
      }
    },
    {
      "cell_type": "code",
      "source": [
        "exp_tensor = torch.exp(a)\n",
        "log_tensor = torch.log(b)\n",
        "\n",
        "print(f\"Exponentiation:\\n{exp_tensor}\\n\\nLogarithm:\\n{log_tensor}\")"
      ],
      "metadata": {
        "colab": {
          "base_uri": "https://localhost:8080/"
        },
        "id": "zUQwXT07MP_b",
        "outputId": "b7c60afb-dd43-4cec-d0f4-25151cfe8e83"
      },
      "execution_count": null,
      "outputs": [
        {
          "output_type": "stream",
          "name": "stdout",
          "text": [
            "Exponentiation:\n",
            "tensor([ 2.7183,  7.3891, 20.0855])\n",
            "\n",
            "Logarithm:\n",
            "tensor([1.3863, 1.6094, 1.7918])\n"
          ]
        }
      ]
    },
    {
      "cell_type": "markdown",
      "source": [
        "- Summation and Mean"
      ],
      "metadata": {
        "id": "vJRiph_mM8vv"
      }
    },
    {
      "cell_type": "code",
      "source": [
        "sum_a = torch.sum(a)\n",
        "mean_b = torch.mean(b)\n",
        "\n",
        "print(f\"Sum of a: {sum_a}\\n\\nMean of b: {mean_b}\")"
      ],
      "metadata": {
        "colab": {
          "base_uri": "https://localhost:8080/"
        },
        "id": "VpRqXz9xMkYh",
        "outputId": "61a886ef-1eef-48e2-cd4a-4dd1b2c3d179"
      },
      "execution_count": null,
      "outputs": [
        {
          "output_type": "stream",
          "name": "stdout",
          "text": [
            "Sum of a: 6.0\n",
            "\n",
            "Mean of b: 5.0\n"
          ]
        }
      ]
    },
    {
      "cell_type": "markdown",
      "source": [
        "- Max and Min values, and their indices"
      ],
      "metadata": {
        "id": "S4tQ4sPhPqi7"
      }
    },
    {
      "cell_type": "code",
      "source": [
        "max_value, max_idx = torch.max(b, dim=0)\n",
        "min_value, min_idx = torch.min(a, dim=0)\n",
        "\n",
        "print(f\"Max value of b: {max_value} at index {max_idx}\")\n",
        "print(f\"Min value of a: {min_value} at index {min_idx}\")"
      ],
      "metadata": {
        "colab": {
          "base_uri": "https://localhost:8080/"
        },
        "id": "tMaP2r7lNQ9T",
        "outputId": "74bb3d97-2908-4283-edde-b6cd1d84893e"
      },
      "execution_count": null,
      "outputs": [
        {
          "output_type": "stream",
          "name": "stdout",
          "text": [
            "Max value of b: 6.0 at index 2\n",
            "Min value of a: 1.0 at index 0\n"
          ]
        }
      ]
    },
    {
      "cell_type": "markdown",
      "source": [
        "- Broadcasting Example\n",
        "\n",
        "Things to Remember:\n",
        "- Broadcasting allows for operations on tensors of different shapes without explicitly reshaping them.\n",
        "- PyTorch automatically expands smaller dimensions by \"repeating\" elements along the required axis.\n",
        "- This makes operations like addition more efficient and easier to write without needing to manually adjust tensor shapes."
      ],
      "metadata": {
        "id": "iRjpKxSFQS6l"
      }
    },
    {
      "cell_type": "code",
      "source": [
        "x = torch.tensor([[1], [2], [3]])\n",
        "y = torch.tensor([1, 2, 3])\n",
        "\n",
        "# broadcaasts y to match the shape of x\n",
        "result = x + y\n",
        "print(f\"Broadcasting result: \\n{result}\")"
      ],
      "metadata": {
        "colab": {
          "base_uri": "https://localhost:8080/"
        },
        "id": "KD_Cx6ZTQNmt",
        "outputId": "d8c150ba-f9cc-4c2f-d704-bc520631c451"
      },
      "execution_count": null,
      "outputs": [
        {
          "output_type": "stream",
          "name": "stdout",
          "text": [
            "Broadcasting result: \n",
            "tensor([[2, 3, 4],\n",
            "        [3, 4, 5],\n",
            "        [4, 5, 6]])\n"
          ]
        }
      ]
    },
    {
      "cell_type": "markdown",
      "source": [
        "### 3. Matrix Operations in PyTorch"
      ],
      "metadata": {
        "id": "ECsFh2QFUqze"
      }
    },
    {
      "cell_type": "markdown",
      "source": [
        "- Matrix Addition"
      ],
      "metadata": {
        "id": "QyQy4AbnWcEd"
      }
    },
    {
      "cell_type": "code",
      "source": [
        "matrix1 = torch.tensor([[1,2] , [3,4]])\n",
        "matrix2 = torch.tensor([[5,6] , [7,8]])\n",
        "\n",
        "print(f\"Matrix Addition: \\n{matrix1 + matrix2}\\n\")\n",
        "print(f\"Matrix Subtraction: \\n{matrix1 - matrix2}\\n\")\n",
        "print(f\"Element-wise Multiplication:\\n{matrix1 * matrix2}\")"
      ],
      "metadata": {
        "colab": {
          "base_uri": "https://localhost:8080/"
        },
        "id": "hTANcjo_Q1rC",
        "outputId": "e313f947-4f6b-4568-92f3-c2043fc273c1"
      },
      "execution_count": null,
      "outputs": [
        {
          "output_type": "stream",
          "name": "stdout",
          "text": [
            "Matrix Addition: \n",
            "tensor([[ 6,  8],\n",
            "        [10, 12]])\n",
            "\n",
            "Matrix Subtraction: \n",
            "tensor([[-4, -4],\n",
            "        [-4, -4]])\n",
            "\n",
            "Element-wise Multiplication:\n",
            "tensor([[ 5, 12],\n",
            "        [21, 32]])\n"
          ]
        }
      ]
    },
    {
      "cell_type": "markdown",
      "source": [
        "- Matrix Multiplication (dot product)"
      ],
      "metadata": {
        "id": "Crh1yuPgWiyq"
      }
    },
    {
      "cell_type": "code",
      "source": [
        "matmul_result = torch.matmul(matrix1, matrix2)\n",
        "print(f\"Matrix Multiplication (dot product): \\n{matmul_result}\")"
      ],
      "metadata": {
        "colab": {
          "base_uri": "https://localhost:8080/"
        },
        "id": "WmXLH6riViN_",
        "outputId": "79101141-a2e3-4989-c7b9-b94ca90effee"
      },
      "execution_count": null,
      "outputs": [
        {
          "output_type": "stream",
          "name": "stdout",
          "text": [
            "Matrix Multiplication (dot product): \n",
            "tensor([[19, 22],\n",
            "        [43, 50]])\n"
          ]
        }
      ]
    },
    {
      "cell_type": "markdown",
      "source": [
        "- Matrix Transpose"
      ],
      "metadata": {
        "id": "ErNR0Go6XTeP"
      }
    },
    {
      "cell_type": "code",
      "source": [
        "transpose_matrix = matrix1.T\n",
        "print(f\"Transpose of Matrix:\\n{transpose_matrix}\")"
      ],
      "metadata": {
        "colab": {
          "base_uri": "https://localhost:8080/"
        },
        "id": "fn0m5Wi_W1Hh",
        "outputId": "cbede48d-0610-4281-92b2-85e08a197de3"
      },
      "execution_count": null,
      "outputs": [
        {
          "output_type": "stream",
          "name": "stdout",
          "text": [
            "Transpose of Matrix:\n",
            "tensor([[1, 3],\n",
            "        [2, 4]])\n"
          ]
        }
      ]
    },
    {
      "cell_type": "markdown",
      "source": [
        "- Matrix inverse and determinant"
      ],
      "metadata": {
        "id": "grvf3g79XlKQ"
      }
    },
    {
      "cell_type": "markdown",
      "source": [
        "- Matrix Inverse Formula\n",
        "\n",
        "\n",
        "![Matrix Inverse](https://drive.google.com/uc?export=view&id=1mUS0txcENmSw7dRYDvwzDf6i_fIh69LQ)"
      ],
      "metadata": {
        "id": "QmQ27PoCY_nH"
      }
    },
    {
      "cell_type": "markdown",
      "source": [
        "- Matrix Determinant Formula\n",
        "\n",
        "![Matrix Determinant](https://drive.google.com/uc?export=view&id=1Kxzk8UF83faStAdlCJclLKl7nxzt8ndQ)"
      ],
      "metadata": {
        "id": "y5OoMKLTewkE"
      }
    },
    {
      "cell_type": "code",
      "source": [
        "matrix3 = torch.tensor([[2.0 , 1.0], [1.0, 3.0]])\n",
        "inv_matrix = torch.inverse(matrix3)\n",
        "det_matrix = torch.det(matrix3)\n",
        "print(f\"Inverse of Matrix:\\n{inv_matrix}\\n\\nDeterminant of Matrix:\\n{det_matrix}\")"
      ],
      "metadata": {
        "colab": {
          "base_uri": "https://localhost:8080/"
        },
        "id": "FUzr9mjGXf-k",
        "outputId": "8724bbff-78f2-4864-9919-95e0c8d2ae4a"
      },
      "execution_count": null,
      "outputs": [
        {
          "output_type": "stream",
          "name": "stdout",
          "text": [
            "Inverse of Matrix:\n",
            "tensor([[ 0.6000, -0.2000],\n",
            "        [-0.2000,  0.4000]])\n",
            "\n",
            "Determinant of Matrix:\n",
            "5.0\n"
          ]
        }
      ]
    },
    {
      "cell_type": "markdown",
      "source": [
        "- Reshaping Tensors\n",
        "\n",
        "- `flatten()` is specifically designed to collapse dimensions into a single dimension.\n",
        "- `view()` is a general reshaping function that can reshape a tensor into any shape, not just 1D.\n"
      ],
      "metadata": {
        "id": "cSNhT0hUf1TD"
      }
    },
    {
      "cell_type": "code",
      "source": [
        "reshaped_tensor = matrix1.view(4)\n",
        "reshaped_tensor_2 = matrix1.view(4,1)\n",
        "flattened_tensor = matrix1.flatten()\n",
        "\n",
        "\n",
        "print(f\"Matrix1:\\n{matrix1}\\n\\nReshaped Tensor:\\n{reshaped_tensor}\\n\\nReshaped Tensor 2:\\n{reshaped_tensor_2}\\n\\nFlattened Tensor: {flattened_tensor}\")"
      ],
      "metadata": {
        "colab": {
          "base_uri": "https://localhost:8080/"
        },
        "id": "K1yetI6LYQNJ",
        "outputId": "cd770841-6104-46fa-d9e6-99a37554f764"
      },
      "execution_count": null,
      "outputs": [
        {
          "output_type": "stream",
          "name": "stdout",
          "text": [
            "Matrix1:\n",
            "tensor([[1, 2],\n",
            "        [3, 4]])\n",
            "\n",
            "Reshaped Tensor:\n",
            "tensor([1, 2, 3, 4])\n",
            "\n",
            "Reshaped Tensor 2:\n",
            "tensor([[1],\n",
            "        [2],\n",
            "        [3],\n",
            "        [4]])\n",
            "\n",
            "Flattened Tensor: tensor([1, 2, 3, 4])\n"
          ]
        }
      ]
    },
    {
      "cell_type": "markdown",
      "source": [
        "- Slicing Tensors"
      ],
      "metadata": {
        "id": "lJP7Gj4CjR_y"
      }
    },
    {
      "cell_type": "code",
      "source": [
        "matrix = torch.tensor([[1, 2, 3],\n",
        "                       [4, 5, 6],\n",
        "                       [7, 8, 9]])\n",
        "\n",
        "slicing_first_row = matrix[0, :]\n",
        "print(f\"Slicing First Row:\\n{slicing_first_row}\\n\\n\")\n",
        "\n",
        "slicing_second_column = matrix[:,1]\n",
        "print(f\"Slicing Second Column:\\n{slicing_second_column}\\n\\n\")\n",
        "\n",
        "slicing_2x2_submatrix = matrix[:2, :2]\n",
        "print(f\"Slicing 2x2 Submatrix:\\n{slicing_2x2_submatrix}\\n\\n\")\n",
        "\n",
        "slicing_with_steps_second_row = matrix[::2, :]\n",
        "print(f\"Slicing with steps - second row:\\n{slicing_with_steps_second_row}\\n\\n\")\n",
        "\n",
        "slicing_with_steps_second_column = matrix[:, ::2]\n",
        "print(f\"Slicing with steps - Second Column:\\n{slicing_with_steps_second_column}\\n\\n\")\n",
        "\n",
        "slicing_with_negative_index = matrix[-1, :]\n",
        "print(f\"Slicing with Negative Index:\\n{slicing_with_negative_index}\\n\\n\")\n",
        "\n",
        "slicing_with_negative_index_row = matrix[-1, :]\n",
        "print(f\"Slicing with Negative Index - Row:\\n{slicing_with_negative_index_row}\\n\\n\")\n",
        "\n",
        "slicing_with_negative_index_column = matrix[:, -1]\n",
        "print(f\"Slicing with Negative Index - Column:\\n{slicing_with_negative_index_column}\\n\\n\")\n",
        "\n",
        "slicing_multiple_rows_and_columns = matrix[1:3, 1:3]\n",
        "print(f\"Slicing Multiple Rows and Columns:\\n{slicing_multiple_rows_and_columns}\\n\\n\")\n",
        "\n",
        "slicing_reverse_rows = torch.flip(matrix, [0])\n",
        "print(f\"slicing Reverse Rows:\\n{slicing_reverse_rows}\\n\\n\")\n",
        "\n",
        "slicing_reverse_columns = torch.flip(matrix, [1])\n",
        "print(f\"slicing Reverse Columns:\\n{slicing_reverse_columns}\\n\\n\")\n",
        "\n",
        "extracting_diagonal_elements = torch.diag(matrix)\n",
        "print(f\"Extracting Diagonal Elements:\\n{extracting_diagonal_elements}\\n\\n\")"
      ],
      "metadata": {
        "id": "wf2160X5hPmR",
        "colab": {
          "base_uri": "https://localhost:8080/"
        },
        "outputId": "d9aabb8a-1876-4dc6-c9c4-1e451f1e6b8b"
      },
      "execution_count": null,
      "outputs": [
        {
          "output_type": "stream",
          "name": "stdout",
          "text": [
            "Slicing First Row:\n",
            "tensor([1, 2, 3])\n",
            "\n",
            "\n",
            "Slicing Second Column:\n",
            "tensor([2, 5, 8])\n",
            "\n",
            "\n",
            "Slicing 2x2 Submatrix:\n",
            "tensor([[1, 2],\n",
            "        [4, 5]])\n",
            "\n",
            "\n",
            "Slicing with steps - second row:\n",
            "tensor([[1, 2, 3],\n",
            "        [7, 8, 9]])\n",
            "\n",
            "\n",
            "Slicing with steps - Second Column:\n",
            "tensor([[1, 3],\n",
            "        [4, 6],\n",
            "        [7, 9]])\n",
            "\n",
            "\n",
            "Slicing with Negative Index:\n",
            "tensor([7, 8, 9])\n",
            "\n",
            "\n",
            "Slicing with Negative Index - Row:\n",
            "tensor([7, 8, 9])\n",
            "\n",
            "\n",
            "Slicing with Negative Index - Column:\n",
            "tensor([3, 6, 9])\n",
            "\n",
            "\n",
            "Slicing Multiple Rows and Columns:\n",
            "tensor([[5, 6],\n",
            "        [8, 9]])\n",
            "\n",
            "\n",
            "slicing Reverse Rows:\n",
            "tensor([[7, 8, 9],\n",
            "        [4, 5, 6],\n",
            "        [1, 2, 3]])\n",
            "\n",
            "\n",
            "slicing Reverse Columns:\n",
            "tensor([[3, 2, 1],\n",
            "        [6, 5, 4],\n",
            "        [9, 8, 7]])\n",
            "\n",
            "\n",
            "Extracting Diagonal Elements:\n",
            "tensor([1, 5, 9])\n",
            "\n",
            "\n"
          ]
        }
      ]
    },
    {
      "cell_type": "markdown",
      "source": [
        "### 4. Tensor Concatenation and Stacking"
      ],
      "metadata": {
        "id": "Me1JbGbQqxbu"
      }
    },
    {
      "cell_type": "code",
      "source": [
        "print(f\"Matrix 1:\\n {matrix1}\\n\\n\")\n",
        "print(f\"Matrix 2:\\n {matrix2}\\n\\n\")"
      ],
      "metadata": {
        "colab": {
          "base_uri": "https://localhost:8080/"
        },
        "id": "1LddDSAzo3__",
        "outputId": "ba0e7f0f-807e-4533-ddd2-54946573240b"
      },
      "execution_count": null,
      "outputs": [
        {
          "output_type": "stream",
          "name": "stdout",
          "text": [
            "Matrix 1:\n",
            " tensor([[1, 2],\n",
            "        [3, 4]])\n",
            "\n",
            "\n",
            "Matrix 2:\n",
            " tensor([[5, 6],\n",
            "        [7, 8]])\n",
            "\n",
            "\n"
          ]
        }
      ]
    },
    {
      "cell_type": "markdown",
      "source": [
        "- Concatenating Tensors along different dimensions"
      ],
      "metadata": {
        "id": "_mjyZOAgrF0F"
      }
    },
    {
      "cell_type": "code",
      "source": [
        "concat_tensor = torch.cat((matrix1, matrix2), dim=0)\n",
        "print(f\"Concatenated Tensor: \\n{concat_tensor}\")"
      ],
      "metadata": {
        "colab": {
          "base_uri": "https://localhost:8080/"
        },
        "id": "gj4sEK0irDew",
        "outputId": "dad978f4-18de-46f8-ceb9-3479f222ff7b"
      },
      "execution_count": null,
      "outputs": [
        {
          "output_type": "stream",
          "name": "stdout",
          "text": [
            "Concatenated Tensor: \n",
            "tensor([[1, 2],\n",
            "        [3, 4],\n",
            "        [5, 6],\n",
            "        [7, 8]])\n"
          ]
        }
      ]
    },
    {
      "cell_type": "code",
      "source": [
        "concat_tensor = torch.cat((matrix1, matrix2), dim=1)\n",
        "print(f\"Concatenated Tensor: \\n{concat_tensor}\")"
      ],
      "metadata": {
        "colab": {
          "base_uri": "https://localhost:8080/"
        },
        "id": "m1IRFY0Tr_Ye",
        "outputId": "6b8db34b-2b34-4b1d-e083-d59dd03ef15a"
      },
      "execution_count": null,
      "outputs": [
        {
          "output_type": "stream",
          "name": "stdout",
          "text": [
            "Concatenated Tensor: \n",
            "tensor([[1, 2, 5, 6],\n",
            "        [3, 4, 7, 8]])\n"
          ]
        }
      ]
    },
    {
      "cell_type": "markdown",
      "source": [
        "- Stacking Tensors"
      ],
      "metadata": {
        "id": "cmoZ538ArfsB"
      }
    },
    {
      "cell_type": "code",
      "source": [
        "stacked_tensor = torch.stack((matrix1, matrix2), dim=0)\n",
        "print(f\"Stacked Tensor:\\n{stacked_tensor}\")"
      ],
      "metadata": {
        "colab": {
          "base_uri": "https://localhost:8080/"
        },
        "id": "jV54MJqdrcJa",
        "outputId": "79817f74-eb41-4417-d411-f58ec6ffffc3"
      },
      "execution_count": null,
      "outputs": [
        {
          "output_type": "stream",
          "name": "stdout",
          "text": [
            "Stacked Tensor:\n",
            "tensor([[[1, 2],\n",
            "         [3, 4]],\n",
            "\n",
            "        [[5, 6],\n",
            "         [7, 8]]])\n"
          ]
        }
      ]
    },
    {
      "cell_type": "code",
      "source": [
        "stacked_tensor = torch.stack((matrix1, matrix2), dim=1)\n",
        "print(f\"Stacked Tensor:\\n{stacked_tensor}\")"
      ],
      "metadata": {
        "colab": {
          "base_uri": "https://localhost:8080/"
        },
        "id": "x7-gFgssr3-B",
        "outputId": "3cfd4965-b8bc-48b2-e5e6-0cea98b51ba4"
      },
      "execution_count": null,
      "outputs": [
        {
          "output_type": "stream",
          "name": "stdout",
          "text": [
            "Stacked Tensor:\n",
            "tensor([[[1, 2],\n",
            "         [5, 6]],\n",
            "\n",
            "        [[3, 4],\n",
            "         [7, 8]]])\n"
          ]
        }
      ]
    },
    {
      "cell_type": "markdown",
      "source": [
        "### 5. Converting between PyTorch Tensors and NumPy Arrays\n",
        "\n",
        "- Converting NumPy arrays to PyTorch Tensors"
      ],
      "metadata": {
        "id": "yLvXZHTUsQZF"
      }
    },
    {
      "cell_type": "code",
      "source": [
        "np_array = np.array([1, 2, 3])\n",
        "torch_tensor_from_numpy = torch.from_numpy(np_array)\n",
        "print(f\"Numpy to Tensor: {torch_tensor_from_numpy}\")"
      ],
      "metadata": {
        "colab": {
          "base_uri": "https://localhost:8080/"
        },
        "id": "lWGzlJaasIam",
        "outputId": "e2c47fe0-9e19-43e8-9156-75469a69bef7"
      },
      "execution_count": null,
      "outputs": [
        {
          "output_type": "stream",
          "name": "stdout",
          "text": [
            "Numpy to Tensor: tensor([1, 2, 3])\n"
          ]
        }
      ]
    },
    {
      "cell_type": "markdown",
      "source": [
        "- Converting PyTorch tensors to NumPy arrays"
      ],
      "metadata": {
        "id": "Z40_HFu4s6O0"
      }
    },
    {
      "cell_type": "code",
      "source": [
        "tensor_to_numpy = torch_tensor_from_numpy.numpy()\n",
        "print(f\"Tensor to NumPy: {tensor_to_numpy}\")"
      ],
      "metadata": {
        "colab": {
          "base_uri": "https://localhost:8080/"
        },
        "id": "Eoo_HdzYs19X",
        "outputId": "69e8dae1-93f1-4dd5-8d69-31b6c5e02eb9"
      },
      "execution_count": null,
      "outputs": [
        {
          "output_type": "stream",
          "name": "stdout",
          "text": [
            "Tensor to NumPy: [1 2 3]\n"
          ]
        }
      ]
    },
    {
      "cell_type": "markdown",
      "source": [
        "### 6. Automatic Differentiation"
      ],
      "metadata": {
        "id": "0VzgnLJLtYhf"
      }
    },
    {
      "cell_type": "code",
      "source": [
        "x = torch.tensor([2.0, 3.0], requires_grad=True)\n",
        "y = x**2\n",
        "# backpropogate\n",
        "y.backward(torch.ones_like(x))\n",
        "print(f\"Gradients: {x.grad}\")"
      ],
      "metadata": {
        "colab": {
          "base_uri": "https://localhost:8080/"
        },
        "id": "HV8FsG_XtI3H",
        "outputId": "4f97ca7d-50bc-4987-ea29-e4c213d6500d"
      },
      "execution_count": null,
      "outputs": [
        {
          "output_type": "stream",
          "name": "stdout",
          "text": [
            "Gradients: tensor([4., 6.])\n"
          ]
        }
      ]
    },
    {
      "cell_type": "code",
      "source": [],
      "metadata": {
        "id": "FU-Ysgzltyx1"
      },
      "execution_count": null,
      "outputs": []
    }
  ]
}