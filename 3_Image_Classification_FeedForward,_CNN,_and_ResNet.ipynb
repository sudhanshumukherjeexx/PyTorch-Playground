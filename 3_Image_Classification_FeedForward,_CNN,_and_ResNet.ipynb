{
  "nbformat": 4,
  "nbformat_minor": 0,
  "metadata": {
    "colab": {
      "provenance": [],
      "machine_shape": "hm",
      "authorship_tag": "ABX9TyOFDz8JAtTcqrzpq0Zvo4YE",
      "include_colab_link": true
    },
    "kernelspec": {
      "name": "python3",
      "display_name": "Python 3"
    },
    "language_info": {
      "name": "python"
    }
  },
  "cells": [
    {
      "cell_type": "markdown",
      "metadata": {
        "id": "view-in-github",
        "colab_type": "text"
      },
      "source": [
        "<a href=\"https://colab.research.google.com/github/sudhanshumukherjeexx/PyTorch-Playground/blob/main/3_Image_Classification_FeedForward%2C_CNN%2C_and_ResNet.ipynb\" target=\"_parent\"><img src=\"https://colab.research.google.com/assets/colab-badge.svg\" alt=\"Open In Colab\"/></a>"
      ]
    },
    {
      "cell_type": "markdown",
      "source": [
        "### 1. Importing Libraries"
      ],
      "metadata": {
        "id": "zM5pi1bN0qe_"
      }
    },
    {
      "cell_type": "code",
      "execution_count": 1,
      "metadata": {
        "id": "xhrRnPT-0pGO"
      },
      "outputs": [],
      "source": [
        "import torch\n",
        "import torch.nn as nn\n",
        "import torch.optim as optim\n",
        "import torchvision\n",
        "import torchvision.transforms as transforms\n",
        "import matplotlib.pyplot as plt\n",
        "import seaborn as sns\n",
        "from sklearn.metrics import confusion_matrix\n",
        "import numpy as np\n",
        "from torchvision import models\n"
      ]
    },
    {
      "cell_type": "markdown",
      "source": [
        "### 2. Loading and Preprocessing the CIFAR-10 Dataset"
      ],
      "metadata": {
        "id": "kfbsWfYb1DBq"
      }
    },
    {
      "cell_type": "code",
      "source": [
        "transform_train = transforms.Compose([\n",
        "    transforms.RandomHorizontalFlip(),\n",
        "    transforms.RandomCrop(32, padding=4),\n",
        "    transforms.ToTensor(),\n",
        "    transforms.Normalize((0.5, 0.5, 0.5),(0.5, 0.5, 0.5))\n",
        "])\n",
        "\n",
        "transform_test = transforms.Compose([\n",
        "    transforms.ToTensor(),\n",
        "    transforms.Normalize((0.5, 0.5, 0.5),(0.5, 0.5, 0.5))\n",
        "])"
      ],
      "metadata": {
        "id": "BwhW6wL30yOe"
      },
      "execution_count": 2,
      "outputs": []
    },
    {
      "cell_type": "markdown",
      "source": [
        "- Load CIFAR-10 dataset"
      ],
      "metadata": {
        "id": "tGMl9aMI3Kf4"
      }
    },
    {
      "cell_type": "code",
      "source": [
        "trainset = torchvision.datasets.CIFAR10(root='./data', train=True, download=True, transform=transform_train)\n",
        "trainloader = torch.utils.data.DataLoader(trainset, batch_size=32, shuffle=True)\n",
        "\n",
        "testset = torchvision.datasets.CIFAR10(root='./data', train=False, download=True, transform=transform_test)\n",
        "testloader = torch.utils.data.DataLoader(testset, batch_size=32, shuffle=False)"
      ],
      "metadata": {
        "colab": {
          "base_uri": "https://localhost:8080/"
        },
        "id": "JsZXMSdA2csG",
        "outputId": "9c772e06-c166-44ac-f31b-4c196af6c61b"
      },
      "execution_count": 3,
      "outputs": [
        {
          "output_type": "stream",
          "name": "stdout",
          "text": [
            "Downloading https://www.cs.toronto.edu/~kriz/cifar-10-python.tar.gz to ./data/cifar-10-python.tar.gz\n"
          ]
        },
        {
          "output_type": "stream",
          "name": "stderr",
          "text": [
            "100%|██████████| 170498071/170498071 [00:02<00:00, 81180436.84it/s]\n"
          ]
        },
        {
          "output_type": "stream",
          "name": "stdout",
          "text": [
            "Extracting ./data/cifar-10-python.tar.gz to ./data\n",
            "Files already downloaded and verified\n"
          ]
        }
      ]
    },
    {
      "cell_type": "markdown",
      "source": [
        "- CIFAR-10 class names"
      ],
      "metadata": {
        "id": "H_cIVy3u3Zpy"
      }
    },
    {
      "cell_type": "code",
      "source": [
        "classes = ('plane', 'car', 'bird', 'cat', 'deer', 'dog', 'frog', 'horse', 'ship', 'truck')\n",
        "print(f'Classes: {classes}')"
      ],
      "metadata": {
        "colab": {
          "base_uri": "https://localhost:8080/"
        },
        "id": "Nl2PvdmH21q8",
        "outputId": "8e8c13e8-9840-4076-e5af-550d6871aeb7"
      },
      "execution_count": 4,
      "outputs": [
        {
          "output_type": "stream",
          "name": "stdout",
          "text": [
            "Classes: ('plane', 'car', 'bird', 'cat', 'deer', 'dog', 'frog', 'horse', 'ship', 'truck')\n"
          ]
        }
      ]
    },
    {
      "cell_type": "markdown",
      "source": [
        "## Simple FeedForward Neural Network"
      ],
      "metadata": {
        "id": "1Yb2zuEO3-nD"
      }
    },
    {
      "cell_type": "code",
      "source": [
        "class SimpleFeedForwardNN(nn.Module):\n",
        "    def __init__(self):\n",
        "        super(SimpleFeedForwardNN, self).__init__()\n",
        "        self.fc1 = nn.Linear(32 * 32 * 3, 512)      # Fully Connected Layer 1\n",
        "        self.fc2 = nn.Linear(512, 256)              # Fully Connected Layer 2\n",
        "        self.fc3 = nn.Linear(256, 128)              # Fully Connected Layer 3\n",
        "        self.fc4 = nn.Linear(128, 10)               # Output Layer for 10 classes\n",
        "\n",
        "    def forward(self, x):\n",
        "        x = x.view(-1, 32 * 32 * 3)        # Flatten the image input\n",
        "        x = torch.relu(self.fc1(x))\n",
        "        x = torch.relu(self.fc2(x))\n",
        "        x = torch.relu(self.fc3(x))\n",
        "        x = self.fc4(x)                    # No Activation on Output Layer(Logits)\n",
        "        return x\n",
        "\n",
        "\n",
        "ffn_model = SimpleFeedForwardNN().cuda()"
      ],
      "metadata": {
        "id": "JJu5M_3g3qgG"
      },
      "execution_count": 5,
      "outputs": []
    },
    {
      "cell_type": "markdown",
      "source": [
        "- Loss Function and Optimizer for FeedForward NN"
      ],
      "metadata": {
        "id": "crHQJiRz7SlF"
      }
    },
    {
      "cell_type": "code",
      "source": [
        "ffn_criterion = nn.CrossEntropyLoss()\n",
        "ffn_optimizer = optim.Adam(ffn_model.parameters(), lr=0.001)"
      ],
      "metadata": {
        "id": "G0UwXliV51x4"
      },
      "execution_count": 6,
      "outputs": []
    },
    {
      "cell_type": "markdown",
      "source": [
        "- Train the FeedForward Model"
      ],
      "metadata": {
        "id": "qy2P5v817wOU"
      }
    },
    {
      "cell_type": "code",
      "source": [
        "def train_model(model, criterion, optimizer, epochs=20):\n",
        "    train_losses = []\n",
        "    train_accuracies = []\n",
        "    test_accuracies = []\n",
        "\n",
        "    for epoch in range(epochs):\n",
        "        model.train()\n",
        "        running_loss = 0.0\n",
        "        correct_train = 0\n",
        "        total_train = 0\n",
        "\n",
        "        for inputs, labels in trainloader:\n",
        "            inputs, labels = inputs.cuda(), labels.cuda()\n",
        "            inputs = inputs.view(inputs.size(0), -1)   # flatten the inputs\n",
        "            optimizer.zero_grad()\n",
        "            outputs = model(inputs)\n",
        "\n",
        "            loss = criterion(outputs, labels)\n",
        "            loss.backward()\n",
        "            optimizer.step()\n",
        "\n",
        "            running_loss += loss.item()\n",
        "            _, predicted = torch.max(outputs, 1)\n",
        "            total_train += labels.size(0)\n",
        "            correct_train += (predicted == labels).sum().item()\n",
        "\n",
        "        epoch_loss = running_loss / len(trainloader)\n",
        "        train_accuracy = 100 * correct_train / total_train\n",
        "        train_losses.append(epoch_loss)\n",
        "        train_accuracies.append(train_accuracy)\n",
        "\n",
        "        # evaluate on test set\n",
        "        correct_test = 0\n",
        "        total_test = 0\n",
        "        model.eval()\n",
        "        with torch.no_grad():\n",
        "            for inputs, labels in testloader:\n",
        "                inputs, labels = inputs.cuda(), labels.cuda()\n",
        "                inputs = inputs.view(inputs.size(0), -1)\n",
        "                outputs = model(inputs)\n",
        "\n",
        "                _, predicted = torch.max(outputs, 1)\n",
        "\n",
        "                total_test += labels.size(0)\n",
        "                correct_test += (predicted == labels).sum().item()\n",
        "\n",
        "        test_accuracy = 100 * correct_test / total_test\n",
        "        test_accuracies.append(test_accuracy)\n",
        "\n",
        "        print(f'Epoch [{epoch+1}/{epochs}], Loss: {epoch_loss: .4f}')\n",
        "        print(f'Training Accuracy: {train_accuracy:.2f}%, Test Accuracy: {test_accuracy:.2f}%')\n",
        "    return train_accuracies, test_accuracies"
      ],
      "metadata": {
        "id": "P7k2DSTt7u6f"
      },
      "execution_count": 7,
      "outputs": []
    },
    {
      "cell_type": "markdown",
      "source": [
        "- FeedForward Neural Network"
      ],
      "metadata": {
        "id": "ns34NEibW1az"
      }
    },
    {
      "cell_type": "code",
      "source": [
        "print(\"Training Simple FeedForward Network: \")\n",
        "ffn_train_acc, ffn_test_acc = train_model(ffn_model, ffn_criterion, ffn_optimizer)\n"
      ],
      "metadata": {
        "colab": {
          "base_uri": "https://localhost:8080/"
        },
        "id": "dqlaVtttDv77",
        "outputId": "3fb4ac8d-3005-41d0-c076-da3311692f82"
      },
      "execution_count": 8,
      "outputs": [
        {
          "output_type": "stream",
          "name": "stdout",
          "text": [
            "Training Simple FeedForward Network: \n",
            "Epoch [1/20], Loss:  1.8172\n",
            "Training Accuracy: 34.10%, Test Accuracy: 39.10%\n",
            "Epoch [2/20], Loss:  1.6607\n",
            "Training Accuracy: 40.16%, Test Accuracy: 41.07%\n",
            "Epoch [3/20], Loss:  1.5838\n",
            "Training Accuracy: 43.05%, Test Accuracy: 43.70%\n",
            "Epoch [4/20], Loss:  1.5466\n",
            "Training Accuracy: 44.77%, Test Accuracy: 43.97%\n",
            "Epoch [5/20], Loss:  1.5154\n",
            "Training Accuracy: 45.79%, Test Accuracy: 44.78%\n",
            "Epoch [6/20], Loss:  1.4889\n",
            "Training Accuracy: 46.64%, Test Accuracy: 44.92%\n",
            "Epoch [7/20], Loss:  1.4694\n",
            "Training Accuracy: 47.45%, Test Accuracy: 46.13%\n",
            "Epoch [8/20], Loss:  1.4566\n",
            "Training Accuracy: 47.51%, Test Accuracy: 46.35%\n",
            "Epoch [9/20], Loss:  1.4413\n",
            "Training Accuracy: 48.36%, Test Accuracy: 45.83%\n",
            "Epoch [10/20], Loss:  1.4262\n",
            "Training Accuracy: 48.90%, Test Accuracy: 46.50%\n",
            "Epoch [11/20], Loss:  1.4190\n",
            "Training Accuracy: 49.02%, Test Accuracy: 45.84%\n",
            "Epoch [12/20], Loss:  1.4046\n",
            "Training Accuracy: 49.77%, Test Accuracy: 47.78%\n",
            "Epoch [13/20], Loss:  1.3998\n",
            "Training Accuracy: 49.96%, Test Accuracy: 47.41%\n",
            "Epoch [14/20], Loss:  1.3884\n",
            "Training Accuracy: 49.99%, Test Accuracy: 47.81%\n",
            "Epoch [15/20], Loss:  1.3801\n",
            "Training Accuracy: 50.52%, Test Accuracy: 46.16%\n",
            "Epoch [16/20], Loss:  1.3726\n",
            "Training Accuracy: 50.88%, Test Accuracy: 47.31%\n",
            "Epoch [17/20], Loss:  1.3642\n",
            "Training Accuracy: 51.03%, Test Accuracy: 48.08%\n",
            "Epoch [18/20], Loss:  1.3536\n",
            "Training Accuracy: 51.52%, Test Accuracy: 46.71%\n",
            "Epoch [19/20], Loss:  1.3508\n",
            "Training Accuracy: 51.86%, Test Accuracy: 48.20%\n",
            "Epoch [20/20], Loss:  1.3454\n",
            "Training Accuracy: 51.83%, Test Accuracy: 47.30%\n"
          ]
        }
      ]
    },
    {
      "cell_type": "markdown",
      "source": [
        "# Building a CNN - LeNet"
      ],
      "metadata": {
        "id": "w-6DVUG--_7n"
      }
    },
    {
      "cell_type": "code",
      "source": [
        "class LeNetCNN(nn.Module):\n",
        "    def __init__(self):\n",
        "        super(LeNetCNN, self).__init__()\n",
        "        self.conv1 = nn.Conv2d(3, 32, kernel_size=3, stride=1, padding=1) # Conv Layer 1\n",
        "        self.conv2 = nn.Conv2d(32, 64, kernel_size=3, stride=1, padding=1) # Conv Layer 2\n",
        "        self.pool = nn.MaxPool2d(2, 2)                  # Max Pooling layer with 2x2 filter\n",
        "\n",
        "\n",
        "        self.fc1 = nn.Linear(64 * 8 * 8, 512)       # Fully Connected Layer 1\n",
        "        self.fc2 = nn.Linear(512, 128)              # Fully Connected Layer 2\n",
        "        self.fc3 = nn.Linear(128, 10)               # Output Layer for 10 classes\n",
        "\n",
        "    def forward(self, x):\n",
        "        x = self.pool(torch.relu(self.conv1(x)))    # Conv 1 + ReLu + Pooling\n",
        "        x = self.pool(torch.relu(self.conv2(x)))    # Conv 2 + ReLu + Pooling\n",
        "        x = x.view(-1, 64 * 8 * 8)                  # Flatten the tensor\n",
        "        x = torch.relu(self.fc1(x))\n",
        "        x = torch.relu(self.fc2(x))\n",
        "        x = self.fc3(x)\n",
        "        return x\n",
        "\n",
        "\n",
        "cnn_model = LeNetCNN().cuda()"
      ],
      "metadata": {
        "id": "eba6jBp3-7VH"
      },
      "execution_count": 9,
      "outputs": []
    },
    {
      "cell_type": "code",
      "source": [
        "def initialize_weights(m):\n",
        "    if isinstance(m, nn.Conv2d) or isinstance(m, nn.Linear):\n",
        "        nn.init.xavier_uniform_(m.weight)\n",
        "\n",
        "cnn_model.apply(initialize_weights)"
      ],
      "metadata": {
        "colab": {
          "base_uri": "https://localhost:8080/"
        },
        "id": "3AM6KeMqgC0Y",
        "outputId": "d4196e3f-55ea-4c3e-c90a-98af9f145577"
      },
      "execution_count": 10,
      "outputs": [
        {
          "output_type": "execute_result",
          "data": {
            "text/plain": [
              "LeNetCNN(\n",
              "  (conv1): Conv2d(3, 32, kernel_size=(3, 3), stride=(1, 1), padding=(1, 1))\n",
              "  (conv2): Conv2d(32, 64, kernel_size=(3, 3), stride=(1, 1), padding=(1, 1))\n",
              "  (pool): MaxPool2d(kernel_size=2, stride=2, padding=0, dilation=1, ceil_mode=False)\n",
              "  (fc1): Linear(in_features=4096, out_features=512, bias=True)\n",
              "  (fc2): Linear(in_features=512, out_features=128, bias=True)\n",
              "  (fc3): Linear(in_features=128, out_features=10, bias=True)\n",
              ")"
            ]
          },
          "metadata": {},
          "execution_count": 10
        }
      ]
    },
    {
      "cell_type": "markdown",
      "source": [
        "- Loss Function and Optimizer for CNN"
      ],
      "metadata": {
        "id": "aDZurZ-2Bncf"
      }
    },
    {
      "cell_type": "code",
      "source": [
        "cnn_criterion = nn.CrossEntropyLoss()\n",
        "cnn_optimizer = optim.Adam(cnn_model.parameters(), lr=0.0001)"
      ],
      "metadata": {
        "id": "N3nuq3K_BmbB"
      },
      "execution_count": 11,
      "outputs": []
    },
    {
      "cell_type": "markdown",
      "source": [
        "- Defining train function for CNN Models---without flattening the inputs"
      ],
      "metadata": {
        "id": "MQqvO5buaOYZ"
      }
    },
    {
      "cell_type": "code",
      "source": [
        "def train_cnn_model(model, criterion, optimizer, epochs=20):\n",
        "    train_losses = []\n",
        "    train_accuracies = []\n",
        "    test_accuracies = []\n",
        "\n",
        "    for epoch in range(epochs):\n",
        "        model.train()           # training mode\n",
        "        running_loss = 0.0\n",
        "        correct_train = 0\n",
        "        total_train = 0\n",
        "\n",
        "        for inputs, labels in trainloader:\n",
        "            inputs, labels = inputs.cuda(), labels.cuda()\n",
        "            optimizer.zero_grad()\n",
        "\n",
        "            outputs = model(inputs)  # CNNs expects in shape [batch_size, channels, height, width]\n",
        "\n",
        "            loss = criterion(outputs, labels)\n",
        "            loss.backward()\n",
        "            optimizer.step()\n",
        "\n",
        "            running_loss += loss.item()\n",
        "            _, predicted = torch.max(outputs, 1)\n",
        "            total_train += labels.size(0)\n",
        "            correct_train += (predicted == labels).sum().item()\n",
        "\n",
        "        epoch_loss = running_loss / len(trainloader)\n",
        "        train_accuracy = 100 * correct_train / total_train\n",
        "        train_losses.append(epoch_loss)\n",
        "        train_accuracies.append(train_accuracy)\n",
        "\n",
        "        # evaluation phase\n",
        "\n",
        "        correct_test = 0\n",
        "        total_test = 0\n",
        "        model.eval()\n",
        "\n",
        "        with torch.no_grad():\n",
        "            for inputs, labels in testloader:\n",
        "                inputs, labels = inputs.cuda(), labels.cuda()\n",
        "\n",
        "                outputs = model(inputs)\n",
        "                _, predicted = torch.max(outputs, 1)\n",
        "\n",
        "                if predicted.size(0) != labels.size(0):\n",
        "                    print(f\"Batch size mismatch detected: predicted size {predicted.size(0)}, labels size {labels.size(0)}\")\n",
        "                    continue\n",
        "\n",
        "                total_test += labels.size(0)\n",
        "                correct_test += (predicted == labels).sum().item()\n",
        "\n",
        "        test_accuracy = 100 * correct_test / total_test\n",
        "        test_accuracies.append(test_accuracy)\n",
        "\n",
        "        print(f\"Epoch [{epoch+1}/{epochs}], Loss: {epoch_loss:.4f}\")\n",
        "        print(f\"Training Accuracy: {train_accuracy:.2f}%, Test Accuracy: {test_accuracy:.2f}%\")\n",
        "    return train_accuracies, test_accuracies"
      ],
      "metadata": {
        "id": "HJkghES8aOCr"
      },
      "execution_count": 12,
      "outputs": []
    },
    {
      "cell_type": "markdown",
      "source": [
        "- CNN - LeNet Model"
      ],
      "metadata": {
        "id": "Umi1GRJgW_RQ"
      }
    },
    {
      "cell_type": "code",
      "source": [
        "print('\\nTraining LeNet-Like CNN:')\n",
        "cnn_train_acc, cnn_test_acc = train_cnn_model(cnn_model, cnn_criterion, cnn_optimizer, epochs=20)"
      ],
      "metadata": {
        "id": "jmcTQ0uDELFw",
        "colab": {
          "base_uri": "https://localhost:8080/"
        },
        "outputId": "cd37c8de-2b01-449c-d78f-86555630dbba"
      },
      "execution_count": 13,
      "outputs": [
        {
          "output_type": "stream",
          "name": "stdout",
          "text": [
            "\n",
            "Training LeNet-Like CNN:\n",
            "Epoch [1/20], Loss: 1.6593\n",
            "Training Accuracy: 39.63%, Test Accuracy: 49.71%\n",
            "Epoch [2/20], Loss: 1.3973\n",
            "Training Accuracy: 49.51%, Test Accuracy: 56.37%\n",
            "Epoch [3/20], Loss: 1.2741\n",
            "Training Accuracy: 54.06%, Test Accuracy: 60.95%\n",
            "Epoch [4/20], Loss: 1.1804\n",
            "Training Accuracy: 57.87%, Test Accuracy: 62.89%\n",
            "Epoch [5/20], Loss: 1.1089\n",
            "Training Accuracy: 60.55%, Test Accuracy: 64.99%\n",
            "Epoch [6/20], Loss: 1.0559\n",
            "Training Accuracy: 62.71%, Test Accuracy: 66.65%\n",
            "Epoch [7/20], Loss: 1.0092\n",
            "Training Accuracy: 64.42%, Test Accuracy: 67.87%\n",
            "Epoch [8/20], Loss: 0.9750\n",
            "Training Accuracy: 65.61%, Test Accuracy: 67.98%\n",
            "Epoch [9/20], Loss: 0.9466\n",
            "Training Accuracy: 66.57%, Test Accuracy: 69.94%\n",
            "Epoch [10/20], Loss: 0.9141\n",
            "Training Accuracy: 67.83%, Test Accuracy: 70.18%\n",
            "Epoch [11/20], Loss: 0.8908\n",
            "Training Accuracy: 68.67%, Test Accuracy: 69.95%\n",
            "Epoch [12/20], Loss: 0.8656\n",
            "Training Accuracy: 69.50%, Test Accuracy: 71.25%\n",
            "Epoch [13/20], Loss: 0.8452\n",
            "Training Accuracy: 70.40%, Test Accuracy: 70.88%\n",
            "Epoch [14/20], Loss: 0.8232\n",
            "Training Accuracy: 70.77%, Test Accuracy: 72.98%\n",
            "Epoch [15/20], Loss: 0.8017\n",
            "Training Accuracy: 71.90%, Test Accuracy: 71.31%\n",
            "Epoch [16/20], Loss: 0.7815\n",
            "Training Accuracy: 72.42%, Test Accuracy: 74.03%\n",
            "Epoch [17/20], Loss: 0.7679\n",
            "Training Accuracy: 72.98%, Test Accuracy: 73.91%\n",
            "Epoch [18/20], Loss: 0.7516\n",
            "Training Accuracy: 73.69%, Test Accuracy: 74.23%\n",
            "Epoch [19/20], Loss: 0.7334\n",
            "Training Accuracy: 74.27%, Test Accuracy: 74.73%\n",
            "Epoch [20/20], Loss: 0.7193\n",
            "Training Accuracy: 74.90%, Test Accuracy: 74.67%\n"
          ]
        }
      ]
    },
    {
      "cell_type": "markdown",
      "source": [
        "## Here we can notice that our training and testing accuracy is around 75%, What if we want to boost the accuracy.\n",
        "- We will play with the model by tweaking some values.\n",
        "- Mentioned below is an Ehanced LeNet CNN, that follows more data augmentation, tuned learning rate and scheduler."
      ],
      "metadata": {
        "id": "nXujq-VXk5wG"
      }
    },
    {
      "cell_type": "code",
      "source": [
        "transform_train = transforms.Compose([\n",
        "    transforms.RandomHorizontalFlip(),\n",
        "    transforms.RandomCrop(32, padding=4),\n",
        "    transforms.RandomRotation(10),\n",
        "    transforms.ColorJitter(brightness=0.2, contrast=0.2, saturation=0.2, hue=0.2),\n",
        "    transforms.ToTensor(),\n",
        "    transforms.Normalize((0.5, 0.5, 0.5),(0.5, 0.5, 0.5))\n",
        "])\n",
        "\n",
        "transform_test = transforms.Compose([\n",
        "    transforms.ToTensor(),\n",
        "    transforms.Normalize((0.5, 0.5, 0.5),(0.5, 0.5, 0.5))\n",
        "])\n",
        "\n",
        "\n",
        "trainset = torchvision.datasets.CIFAR10(root='./data', train=True, download=True, transform=transform_train)\n",
        "trainloader = torch.utils.data.DataLoader(trainset, batch_size=32, shuffle=True)\n",
        "\n",
        "testset = torchvision.datasets.CIFAR10(root='./data', train=False, download=True, transform=transform_test)\n",
        "testloader = torch.utils.data.DataLoader(testset, batch_size=32, shuffle=False)"
      ],
      "metadata": {
        "colab": {
          "base_uri": "https://localhost:8080/"
        },
        "id": "cKFIyuvhXRdh",
        "outputId": "9cc06420-f849-4fea-8bb5-eef269f89950"
      },
      "execution_count": 14,
      "outputs": [
        {
          "output_type": "stream",
          "name": "stdout",
          "text": [
            "Files already downloaded and verified\n",
            "Files already downloaded and verified\n"
          ]
        }
      ]
    },
    {
      "cell_type": "code",
      "source": [
        "class Enhanced5LayerCNN(nn.Module):\n",
        "    def __init__(self):\n",
        "        super(Enhanced5LayerCNN, self).__init__()\n",
        "        # Convolutional layers\n",
        "        self.conv1 = nn.Conv2d(3, 32, kernel_size=3, padding=1)  # Input: 3x32x32, Output: 32x32x32\n",
        "        self.bn1 = nn.BatchNorm2d(32)\n",
        "        self.conv2 = nn.Conv2d(32, 64, kernel_size=3, padding=1)  # Output: 64x32x32\n",
        "        self.bn2 = nn.BatchNorm2d(64)\n",
        "        self.pool = nn.MaxPool2d(2, 2)  # Reduces size to 64x16x16\n",
        "\n",
        "        self.conv3 = nn.Conv2d(64, 128, kernel_size=3, padding=1)  # Output: 128x16x16\n",
        "        self.bn3 = nn.BatchNorm2d(128)\n",
        "        self.conv4 = nn.Conv2d(128, 256, kernel_size=3, padding=1)  # Output: 256x16x16\n",
        "        self.bn4 = nn.BatchNorm2d(256)\n",
        "        self.pool2 = nn.MaxPool2d(2, 2)  # Reduces size to 256x8x8\n",
        "\n",
        "        self.conv5 = nn.Conv2d(256, 512, kernel_size=3, padding=1)  # Output: 512x8x8\n",
        "        self.bn5 = nn.BatchNorm2d(512)\n",
        "        self.pool3 = nn.MaxPool2d(2, 2)  # Reduces size to 512x4x4, final output 512x2x2\n",
        "\n",
        "        # Fully connected layers\n",
        "        self.fc1 = nn.Linear(512 * 2 * 2, 1024)  # Adjusted fully connected layer for correct input size (2048)\n",
        "        self.fc2 = nn.Linear(1024, 512)\n",
        "        self.fc3 = nn.Linear(512, 10)  # Output layer for 10 classes\n",
        "\n",
        "        # Dropout\n",
        "        self.dropout = nn.Dropout(0.5)  # Dropout layer with 50% probability\n",
        "\n",
        "    def forward(self, x):\n",
        "        # Apply convolutional layers, batch normalization, ReLU, and pooling\n",
        "        x = self.pool(torch.relu(self.bn1(self.conv1(x))))\n",
        "        x = self.pool(torch.relu(self.bn2(self.conv2(x))))\n",
        "        x = torch.relu(self.bn3(self.conv3(x)))\n",
        "        x = self.pool2(torch.relu(self.bn4(self.conv4(x))))\n",
        "        x = self.pool3(torch.relu(self.bn5(self.conv5(x))))\n",
        "\n",
        "        # Flatten the output for fully connected layers\n",
        "        x = x.view(-1, 512 * 2 * 2)  # Flattening to [batch_size, 2048]\n",
        "\n",
        "        # Apply fully connected layers with dropout\n",
        "        x = self.dropout(torch.relu(self.fc1(x)))\n",
        "        x = self.dropout(torch.relu(self.fc2(x)))\n",
        "        x = self.fc3(x)  # Output logits for 10 classes\n",
        "        return x"
      ],
      "metadata": {
        "id": "u19e9ly_l2Rt"
      },
      "execution_count": 15,
      "outputs": []
    },
    {
      "cell_type": "code",
      "source": [
        "def train_enhanced_cnn_model(model, criterion, optimizer, scheduler, epochs=20):\n",
        "    train_losses = []\n",
        "    train_accuracies = []\n",
        "    test_accuracies = []\n",
        "\n",
        "    for epoch in range(epochs):\n",
        "        model.train()           # training mode\n",
        "        running_loss = 0.0\n",
        "        correct_train = 0\n",
        "        total_train = 0\n",
        "\n",
        "        for inputs, labels in trainloader:\n",
        "            inputs, labels = inputs.cuda(), labels.cuda()\n",
        "            optimizer.zero_grad()\n",
        "\n",
        "            outputs = model(inputs)  # CNNs expects in shape [batch_size, channels, height, width]\n",
        "\n",
        "            loss = criterion(outputs, labels)\n",
        "            loss.backward()\n",
        "            optimizer.step()\n",
        "\n",
        "            running_loss += loss.item()\n",
        "            _, predicted = torch.max(outputs, 1)\n",
        "            total_train += labels.size(0)\n",
        "            correct_train += (predicted == labels).sum().item()\n",
        "\n",
        "        epoch_loss = running_loss / len(trainloader)\n",
        "        train_accuracy = 100 * correct_train / total_train\n",
        "        train_losses.append(epoch_loss)\n",
        "        train_accuracies.append(train_accuracy)\n",
        "\n",
        "        # evaluation phase\n",
        "\n",
        "        correct_test = 0\n",
        "        total_test = 0\n",
        "        model.eval()\n",
        "\n",
        "        with torch.no_grad():\n",
        "            for inputs, labels in testloader:\n",
        "                inputs, labels = inputs.cuda(), labels.cuda()\n",
        "\n",
        "                outputs = model(inputs)\n",
        "                _, predicted = torch.max(outputs, 1)\n",
        "\n",
        "                if predicted.size(0) != labels.size(0):\n",
        "                    print(f\"Batch size mismatch detected: predicted size {predicted.size(0)}, labels size {labels.size(0)}\")\n",
        "                    continue\n",
        "\n",
        "                total_test += labels.size(0)\n",
        "                correct_test += (predicted == labels).sum().item()\n",
        "\n",
        "        test_accuracy = 100 * correct_test / total_test\n",
        "        test_accuracies.append(test_accuracy)\n",
        "\n",
        "        scheduler.step(epoch_loss)     # update learning rate with scheduler\n",
        "\n",
        "        print(f\"Epoch [{epoch+1}/{epochs}], Loss: {epoch_loss:.4f}\")\n",
        "        print(f\"Training Accuracy: {train_accuracy:.2f}%, Test Accuracy: {test_accuracy:.2f}%\")\n",
        "    return train_accuracies, test_accuracies"
      ],
      "metadata": {
        "id": "LFNmLBUyqYgD"
      },
      "execution_count": 20,
      "outputs": []
    },
    {
      "cell_type": "code",
      "source": [
        "cnn_model = Enhanced5LayerCNN().cuda()\n",
        "cnn_model.apply(initialize_weights)\n",
        "\n",
        "cnn_criterion = nn.CrossEntropyLoss()\n",
        "cnn_optimizer = torch.optim.Adam(cnn_model.parameters(), lr=0.0001)\n",
        "scheduler = torch.optim.lr_scheduler.ReduceLROnPlateau(cnn_optimizer, mode='min', factor=0.1, patience=5)"
      ],
      "metadata": {
        "id": "BhHAFSLwcjqG"
      },
      "execution_count": 17,
      "outputs": []
    },
    {
      "cell_type": "code",
      "source": [
        "print('\\nTraining Enhanced 5-Layer CNN:')\n",
        "cnn_train_acc, cnn_test_acc = train_enhanced_cnn_model(cnn_model, cnn_criterion, cnn_optimizer, scheduler, epochs=20)"
      ],
      "metadata": {
        "colab": {
          "base_uri": "https://localhost:8080/"
        },
        "id": "YPaYTyYprPdA",
        "outputId": "d11bd781-15ee-4e85-e402-f7c158e82c83"
      },
      "execution_count": 21,
      "outputs": [
        {
          "output_type": "stream",
          "name": "stdout",
          "text": [
            "\n",
            "Training Enhanced 5-Layer CNN:\n",
            "Epoch [1/20], Loss: 1.5894\n",
            "Training Accuracy: 42.03%, Test Accuracy: 51.16%\n",
            "Epoch [2/20], Loss: 1.4165\n",
            "Training Accuracy: 49.26%, Test Accuracy: 59.10%\n",
            "Epoch [3/20], Loss: 1.2972\n",
            "Training Accuracy: 53.66%, Test Accuracy: 62.76%\n",
            "Epoch [4/20], Loss: 1.2081\n",
            "Training Accuracy: 57.23%, Test Accuracy: 66.61%\n",
            "Epoch [5/20], Loss: 1.1337\n",
            "Training Accuracy: 60.31%, Test Accuracy: 69.23%\n",
            "Epoch [6/20], Loss: 1.0766\n",
            "Training Accuracy: 62.58%, Test Accuracy: 70.27%\n",
            "Epoch [7/20], Loss: 1.0245\n",
            "Training Accuracy: 64.65%, Test Accuracy: 72.88%\n",
            "Epoch [8/20], Loss: 0.9775\n",
            "Training Accuracy: 65.97%, Test Accuracy: 73.74%\n",
            "Epoch [9/20], Loss: 0.9346\n",
            "Training Accuracy: 67.79%, Test Accuracy: 74.79%\n",
            "Epoch [10/20], Loss: 0.9009\n",
            "Training Accuracy: 68.68%, Test Accuracy: 75.00%\n",
            "Epoch [11/20], Loss: 0.8729\n",
            "Training Accuracy: 70.09%, Test Accuracy: 76.58%\n",
            "Epoch [12/20], Loss: 0.8444\n",
            "Training Accuracy: 71.02%, Test Accuracy: 77.37%\n",
            "Epoch [13/20], Loss: 0.8249\n",
            "Training Accuracy: 71.90%, Test Accuracy: 77.99%\n",
            "Epoch [14/20], Loss: 0.8015\n",
            "Training Accuracy: 72.46%, Test Accuracy: 77.59%\n",
            "Epoch [15/20], Loss: 0.7844\n",
            "Training Accuracy: 73.21%, Test Accuracy: 77.09%\n",
            "Epoch [16/20], Loss: 0.7642\n",
            "Training Accuracy: 73.91%, Test Accuracy: 79.37%\n",
            "Epoch [17/20], Loss: 0.7478\n",
            "Training Accuracy: 74.57%, Test Accuracy: 79.17%\n",
            "Epoch [18/20], Loss: 0.7349\n",
            "Training Accuracy: 74.85%, Test Accuracy: 80.41%\n",
            "Epoch [19/20], Loss: 0.7152\n",
            "Training Accuracy: 75.70%, Test Accuracy: 80.68%\n",
            "Epoch [20/20], Loss: 0.6985\n",
            "Training Accuracy: 76.28%, Test Accuracy: 80.52%\n"
          ]
        }
      ]
    },
    {
      "cell_type": "markdown",
      "source": [
        "- Checking results ater changing Optimizer and Scheduler settings"
      ],
      "metadata": {
        "id": "pRl_C6YJcyst"
      }
    },
    {
      "cell_type": "code",
      "source": [
        "cnn_optimizer = optim.SGD(cnn_model.parameters(), lr=0.01, momentum=0.9, weight_decay=1e-4)\n",
        "scheduler = torch.optim.lr_scheduler.StepLR(cnn_optimizer, step_size=7, gamma=0.1)"
      ],
      "metadata": {
        "id": "vlVnbsDgczpz"
      },
      "execution_count": 22,
      "outputs": []
    },
    {
      "cell_type": "code",
      "source": [
        "print('\\nTraining Enhanced 5-Layer CNN:')\n",
        "cnn_train_acc, cnn_test_acc = train_enhanced_cnn_model(cnn_model, cnn_criterion, cnn_optimizer, scheduler, epochs=20)"
      ],
      "metadata": {
        "colab": {
          "base_uri": "https://localhost:8080/"
        },
        "id": "61iI4TMcdGcc",
        "outputId": "dc0ada1e-34f5-4a95-cb6f-3b9130b8ae59"
      },
      "execution_count": 23,
      "outputs": [
        {
          "output_type": "stream",
          "name": "stdout",
          "text": [
            "\n",
            "Training Enhanced 5-Layer CNN:\n"
          ]
        },
        {
          "output_type": "stream",
          "name": "stderr",
          "text": [
            "/usr/local/lib/python3.10/dist-packages/torch/optim/lr_scheduler.py:232: UserWarning: The epoch parameter in `scheduler.step()` was not necessary and is being deprecated where possible. Please use `scheduler.step()` to step the scheduler. During the deprecation, if epoch is different from None, the closed form is used instead of the new chainable form, where available. Please open an issue if you are unable to replicate your use case: https://github.com/pytorch/pytorch/issues/new/choose.\n",
            "  warnings.warn(EPOCH_DEPRECATION_WARNING, UserWarning)\n"
          ]
        },
        {
          "output_type": "stream",
          "name": "stdout",
          "text": [
            "Epoch [1/20], Loss: 1.2508\n",
            "Training Accuracy: 58.32%, Test Accuracy: 67.92%\n",
            "Epoch [2/20], Loss: 1.0608\n",
            "Training Accuracy: 65.48%, Test Accuracy: 73.30%\n",
            "Epoch [3/20], Loss: 0.9731\n",
            "Training Accuracy: 68.77%, Test Accuracy: 73.79%\n",
            "Epoch [4/20], Loss: 0.9098\n",
            "Training Accuracy: 70.55%, Test Accuracy: 76.61%\n",
            "Epoch [5/20], Loss: 0.8543\n",
            "Training Accuracy: 72.29%, Test Accuracy: 78.08%\n",
            "Epoch [6/20], Loss: 0.8051\n",
            "Training Accuracy: 73.96%, Test Accuracy: 79.24%\n",
            "Epoch [7/20], Loss: 0.7682\n",
            "Training Accuracy: 74.93%, Test Accuracy: 80.06%\n",
            "Epoch [8/20], Loss: 0.7323\n",
            "Training Accuracy: 76.32%, Test Accuracy: 81.42%\n",
            "Epoch [9/20], Loss: 0.7010\n",
            "Training Accuracy: 77.26%, Test Accuracy: 81.26%\n",
            "Epoch [10/20], Loss: 0.6666\n",
            "Training Accuracy: 77.99%, Test Accuracy: 82.18%\n",
            "Epoch [11/20], Loss: 0.6451\n",
            "Training Accuracy: 78.69%, Test Accuracy: 82.37%\n",
            "Epoch [12/20], Loss: 0.6265\n",
            "Training Accuracy: 79.22%, Test Accuracy: 82.94%\n",
            "Epoch [13/20], Loss: 0.6049\n",
            "Training Accuracy: 80.06%, Test Accuracy: 81.12%\n",
            "Epoch [14/20], Loss: 0.5927\n",
            "Training Accuracy: 80.49%, Test Accuracy: 82.80%\n",
            "Epoch [15/20], Loss: 0.5850\n",
            "Training Accuracy: 80.77%, Test Accuracy: 84.33%\n",
            "Epoch [16/20], Loss: 0.5669\n",
            "Training Accuracy: 81.13%, Test Accuracy: 83.68%\n",
            "Epoch [17/20], Loss: 0.5557\n",
            "Training Accuracy: 81.66%, Test Accuracy: 83.62%\n",
            "Epoch [18/20], Loss: 0.5441\n",
            "Training Accuracy: 82.03%, Test Accuracy: 83.52%\n",
            "Epoch [19/20], Loss: 0.5331\n",
            "Training Accuracy: 82.34%, Test Accuracy: 83.90%\n",
            "Epoch [20/20], Loss: 0.5276\n",
            "Training Accuracy: 82.33%, Test Accuracy: 83.83%\n"
          ]
        }
      ]
    },
    {
      "cell_type": "markdown",
      "source": [
        "# Transfer Learning using Pretrained ResNet18"
      ],
      "metadata": {
        "id": "xqGrzN4SCM98"
      }
    },
    {
      "cell_type": "markdown",
      "source": [
        "- ResNet Model"
      ],
      "metadata": {
        "id": "L5VMedfPIjDa"
      }
    },
    {
      "cell_type": "code",
      "source": [
        "transform_train = transforms.Compose([\n",
        "    transforms.RandomHorizontalFlip(),\n",
        "    transforms.RandomCrop(32, padding=4),\n",
        "    transforms.RandomRotation(10),\n",
        "    transforms.ColorJitter(brightness=0.2, contrast=0.2, saturation=0.2, hue=0.2),\n",
        "    transforms.ToTensor(),\n",
        "    transforms.Normalize((0.5, 0.5, 0.5),(0.5, 0.5, 0.5))\n",
        "])\n",
        "\n",
        "transform_test = transforms.Compose([\n",
        "    transforms.ToTensor(),\n",
        "    transforms.Normalize((0.5, 0.5, 0.5),(0.5, 0.5, 0.5))\n",
        "])\n",
        "\n",
        "\n",
        "trainset = torchvision.datasets.CIFAR10(root='./data', train=True, download=True, transform=transform_train)\n",
        "trainloader = torch.utils.data.DataLoader(trainset, batch_size=64, shuffle=True)\n",
        "\n",
        "testset = torchvision.datasets.CIFAR10(root='./data', train=False, download=True, transform=transform_test)\n",
        "testloader = torch.utils.data.DataLoader(testset, batch_size=64, shuffle=False)"
      ],
      "metadata": {
        "colab": {
          "base_uri": "https://localhost:8080/"
        },
        "id": "uY6Gi_KUNClM",
        "outputId": "9303e1c0-eb37-4080-d519-3d2781dd2746"
      },
      "execution_count": 24,
      "outputs": [
        {
          "output_type": "stream",
          "name": "stdout",
          "text": [
            "Files already downloaded and verified\n",
            "Files already downloaded and verified\n"
          ]
        }
      ]
    },
    {
      "cell_type": "markdown",
      "source": [
        "- Load the pretrained ResNet18 model"
      ],
      "metadata": {
        "id": "ESrGylxOCUSd"
      }
    },
    {
      "cell_type": "code",
      "source": [
        "resnet_model = models.resnet18(pretrained=True)"
      ],
      "metadata": {
        "colab": {
          "base_uri": "https://localhost:8080/"
        },
        "id": "vnFrhDVkB3_R",
        "outputId": "a2f5e8d8-066f-4d40-b716-c05421011d4f"
      },
      "execution_count": 25,
      "outputs": [
        {
          "output_type": "stream",
          "name": "stderr",
          "text": [
            "/usr/local/lib/python3.10/dist-packages/torchvision/models/_utils.py:208: UserWarning: The parameter 'pretrained' is deprecated since 0.13 and may be removed in the future, please use 'weights' instead.\n",
            "  warnings.warn(\n",
            "/usr/local/lib/python3.10/dist-packages/torchvision/models/_utils.py:223: UserWarning: Arguments other than a weight enum or `None` for 'weights' are deprecated since 0.13 and may be removed in the future. The current behavior is equivalent to passing `weights=ResNet18_Weights.IMAGENET1K_V1`. You can also use `weights=ResNet18_Weights.DEFAULT` to get the most up-to-date weights.\n",
            "  warnings.warn(msg)\n",
            "Downloading: \"https://download.pytorch.org/models/resnet18-f37072fd.pth\" to /root/.cache/torch/hub/checkpoints/resnet18-f37072fd.pth\n",
            "100%|██████████| 44.7M/44.7M [00:00<00:00, 175MB/s]\n"
          ]
        }
      ]
    },
    {
      "cell_type": "markdown",
      "source": [
        "- Modify the final layer to classify 10 classes for CIFAR-10"
      ],
      "metadata": {
        "id": "qm3-Rob8ChoR"
      }
    },
    {
      "cell_type": "code",
      "source": [
        "num_ftrs = resnet_model.fc.in_features\n",
        "resnet_model.fc = nn.Linear(num_ftrs, 10)\n",
        "\n",
        "resnet_model = resnet_model.cuda()"
      ],
      "metadata": {
        "id": "naNIgnKlCgfW"
      },
      "execution_count": 26,
      "outputs": []
    },
    {
      "cell_type": "markdown",
      "source": [
        "- freezing the pretrained layers except the last fully connected layer"
      ],
      "metadata": {
        "id": "0-r7Q3l_DCH8"
      }
    },
    {
      "cell_type": "code",
      "source": [
        "for param in resnet_model.parameters():\n",
        "    param.requires_grad = True"
      ],
      "metadata": {
        "id": "Nl3Ehh_KDAxd"
      },
      "execution_count": 27,
      "outputs": []
    },
    {
      "cell_type": "markdown",
      "source": [
        "- Loss Function and Optimizer for Transfer Learning"
      ],
      "metadata": {
        "id": "lUzEAlnXDdth"
      }
    },
    {
      "cell_type": "code",
      "source": [
        "resnet_criterion = nn.CrossEntropyLoss()\n",
        "# switch to SGD with momentum\n",
        "resnet_optimizer = optim.SGD(resnet_model.parameters(), lr=0.01, momentum=0.9,weight_decay=1e-4)\n",
        "#resnet_optimizer = optim.Adam(resnet_model.fc.parameters(), lr=0.0001, weight_decay=1e-4)"
      ],
      "metadata": {
        "id": "-rJWPnBxDc6G"
      },
      "execution_count": 28,
      "outputs": []
    },
    {
      "cell_type": "code",
      "source": [
        "# define a learning rate scheduler to decay the learning rate over time.\n",
        "scheduler = torch.optim.lr_scheduler.StepLR(resnet_optimizer, step_size=7, gamma=0.1)"
      ],
      "metadata": {
        "id": "Zip-yKWXUnnX"
      },
      "execution_count": 29,
      "outputs": []
    },
    {
      "cell_type": "code",
      "source": [
        "def train_resnet_model(model, criterion, optimizer, scheduler,epochs=20):\n",
        "    train_losses = []\n",
        "    train_accuracies = []\n",
        "    test_accuracies = []\n",
        "\n",
        "    for epoch in range(epochs):\n",
        "        model.train()  # Set model to training mode\n",
        "        running_loss = 0.0\n",
        "        correct_train = 0\n",
        "        total_train = 0\n",
        "\n",
        "        # Training loop\n",
        "        for inputs, labels in trainloader:\n",
        "            inputs, labels = inputs.cuda(), labels.cuda()  # Move to GPU\n",
        "            optimizer.zero_grad()\n",
        "\n",
        "            outputs = model(inputs)  # Forward pass\n",
        "            loss = criterion(outputs, labels)  # Compute loss\n",
        "            loss.backward()  # Backward pass\n",
        "            optimizer.step()  # Update weights\n",
        "\n",
        "            running_loss += loss.item()\n",
        "            _, predicted = torch.max(outputs, 1)\n",
        "            total_train += labels.size(0)\n",
        "            correct_train += (predicted == labels).sum().item()\n",
        "\n",
        "        epoch_loss = running_loss / len(trainloader)\n",
        "        train_accuracy = 100 * correct_train / total_train\n",
        "        train_losses.append(epoch_loss)\n",
        "        train_accuracies.append(train_accuracy)\n",
        "\n",
        "        # Evaluation phase\n",
        "        correct_test = 0\n",
        "        total_test = 0\n",
        "        model.eval()  # Set model to evaluation mode\n",
        "        with torch.no_grad():\n",
        "            for inputs, labels in testloader:\n",
        "                inputs, labels = inputs.cuda(), labels.cuda()  # Move to GPU\n",
        "                outputs = model(inputs)\n",
        "\n",
        "                _, predicted = torch.max(outputs, 1)\n",
        "                total_test += labels.size(0)\n",
        "                correct_test += (predicted == labels).sum().item()\n",
        "\n",
        "        test_accuracy = 100 * correct_test / total_test\n",
        "        test_accuracies.append(test_accuracy)\n",
        "\n",
        "        scheduler.step()\n",
        "\n",
        "        print(f'Epoch [{epoch+1}/{epochs}], Loss: {epoch_loss:.4f}, '\n",
        "              f'Training Accuracy: {train_accuracy:.2f}%, Test Accuracy: {test_accuracy:.2f}%')\n",
        "\n",
        "    return train_accuracies, test_accuracies"
      ],
      "metadata": {
        "id": "4MYYBx2AJb0Z"
      },
      "execution_count": 30,
      "outputs": []
    },
    {
      "cell_type": "code",
      "source": [
        "print(\"\\nTraining ResNet Transfer Learning Model:\")\n",
        "resnet_train_acc, resnet_test_acc = train_resnet_model(resnet_model, resnet_criterion, resnet_optimizer, scheduler,epochs=20)"
      ],
      "metadata": {
        "colab": {
          "base_uri": "https://localhost:8080/"
        },
        "id": "gAGngp4sGOjy",
        "outputId": "11c26ca7-2b8b-461a-bb40-c87ff5eda97f"
      },
      "execution_count": 31,
      "outputs": [
        {
          "output_type": "stream",
          "name": "stdout",
          "text": [
            "\n",
            "Training ResNet Transfer Learning Model:\n",
            "Epoch [1/20], Loss: 1.4011, Training Accuracy: 51.92%, Test Accuracy: 66.50%\n",
            "Epoch [2/20], Loss: 1.0694, Training Accuracy: 63.61%, Test Accuracy: 73.51%\n",
            "Epoch [3/20], Loss: 0.9229, Training Accuracy: 68.36%, Test Accuracy: 72.99%\n",
            "Epoch [4/20], Loss: 0.8460, Training Accuracy: 70.92%, Test Accuracy: 73.63%\n",
            "Epoch [5/20], Loss: 0.7916, Training Accuracy: 72.89%, Test Accuracy: 78.33%\n",
            "Epoch [6/20], Loss: 0.7359, Training Accuracy: 74.80%, Test Accuracy: 77.13%\n",
            "Epoch [7/20], Loss: 0.7015, Training Accuracy: 75.91%, Test Accuracy: 78.82%\n",
            "Epoch [8/20], Loss: 0.5964, Training Accuracy: 79.41%, Test Accuracy: 82.34%\n",
            "Epoch [9/20], Loss: 0.5645, Training Accuracy: 80.23%, Test Accuracy: 82.12%\n",
            "Epoch [10/20], Loss: 0.5507, Training Accuracy: 80.93%, Test Accuracy: 83.27%\n",
            "Epoch [11/20], Loss: 0.5412, Training Accuracy: 81.24%, Test Accuracy: 83.20%\n",
            "Epoch [12/20], Loss: 0.5296, Training Accuracy: 81.45%, Test Accuracy: 83.18%\n",
            "Epoch [13/20], Loss: 0.5248, Training Accuracy: 81.86%, Test Accuracy: 81.44%\n",
            "Epoch [14/20], Loss: 0.5132, Training Accuracy: 82.03%, Test Accuracy: 83.50%\n",
            "Epoch [15/20], Loss: 0.5066, Training Accuracy: 82.24%, Test Accuracy: 83.31%\n",
            "Epoch [16/20], Loss: 0.5027, Training Accuracy: 82.49%, Test Accuracy: 83.56%\n",
            "Epoch [17/20], Loss: 0.5014, Training Accuracy: 82.47%, Test Accuracy: 83.55%\n",
            "Epoch [18/20], Loss: 0.5041, Training Accuracy: 82.35%, Test Accuracy: 83.03%\n",
            "Epoch [19/20], Loss: 0.5008, Training Accuracy: 82.48%, Test Accuracy: 83.68%\n",
            "Epoch [20/20], Loss: 0.4955, Training Accuracy: 82.53%, Test Accuracy: 83.88%\n"
          ]
        }
      ]
    },
    {
      "cell_type": "markdown",
      "source": [
        "- Function to denormalize and display images"
      ],
      "metadata": {
        "id": "k6ziLsv2Hvfu"
      }
    },
    {
      "cell_type": "code",
      "source": [
        "def denormalize(image, mean, std):\n",
        "    image = image.clone()  # Clone the tensor to avoid changing the original\n",
        "    for t, m, s in zip(image, mean, std):\n",
        "        t.mul_(s).add_(m)  # Denormalize the image\n",
        "    return image"
      ],
      "metadata": {
        "id": "eAofzpmdHnzw"
      },
      "execution_count": 36,
      "outputs": []
    },
    {
      "cell_type": "markdown",
      "source": [
        "- Function to visualize the results of the model"
      ],
      "metadata": {
        "id": "6OXtPmFyH382"
      }
    },
    {
      "cell_type": "code",
      "source": [
        "def visualize_model_results(model, testloader, class_names):\n",
        "    # Get a batch of test data\n",
        "    dataiter = iter(testloader)\n",
        "    images, labels = next(dataiter)\n",
        "\n",
        "    images, labels = images.cuda(), labels.cuda()  # Move data to GPU if available\n",
        "\n",
        "    # Pass the images through the model to get predictions\n",
        "    outputs = model(images)\n",
        "    _, predicted = torch.max(outputs, 1)\n",
        "\n",
        "    # Move images back to CPU and denormalize them for visualization\n",
        "    images = images.cpu()\n",
        "    predicted = predicted.cpu()\n",
        "    labels = labels.cpu()\n",
        "\n",
        "    # Denormalize the images for display\n",
        "    mean = np.array([0.485, 0.456, 0.406])\n",
        "    std = np.array([0.229, 0.224, 0.225])\n",
        "\n",
        "    fig, axes = plt.subplots(1, 5, figsize=(12, 4))\n",
        "\n",
        "    for i in range(5):\n",
        "        ax = axes[i]\n",
        "        # Denormalize the image and display it\n",
        "        img = denormalize(images[i], mean, std)\n",
        "        img = np.transpose(img.numpy(), (1, 2, 0))  # Change the shape to (H, W, C)\n",
        "\n",
        "        ax.imshow(img)\n",
        "        ax.set_title(f'Predicted: {class_names[predicted[i]]}\\nActual: {class_names[labels[i]]}')\n",
        "        ax.axis('off')\n",
        "\n",
        "    plt.show()\n"
      ],
      "metadata": {
        "id": "10To3EQVH0ov"
      },
      "execution_count": 37,
      "outputs": []
    },
    {
      "cell_type": "code",
      "source": [
        "class_names = ['plane', 'car', 'bird', 'cat', 'deer', 'dog', 'frog', 'horse', 'ship', 'truck']\n"
      ],
      "metadata": {
        "id": "0VN3EjOhH7g_"
      },
      "execution_count": 38,
      "outputs": []
    },
    {
      "cell_type": "code",
      "source": [
        "print(\"\\nVisualizing Simple Feed Forward Model Results:\")\n",
        "visualize_model_results(ffn_model, testloader, class_names)"
      ],
      "metadata": {
        "colab": {
          "base_uri": "https://localhost:8080/",
          "height": 275
        },
        "id": "PhfWI-2ZIjmZ",
        "outputId": "cb1e1385-da8a-4af1-c06e-d70686b22813"
      },
      "execution_count": 47,
      "outputs": [
        {
          "output_type": "stream",
          "name": "stdout",
          "text": [
            "\n",
            "Visualizing Simple Feed Forward Model Results:\n"
          ]
        },
        {
          "output_type": "display_data",
          "data": {
            "text/plain": [
              "<Figure size 1200x400 with 5 Axes>"
            ],
            "image/png": "[encoded data removed]"
          },
          "metadata": {}
        }
      ]
    },
    {
      "cell_type": "markdown",
      "source": [
        "- Visualize the results for the CNN model"
      ],
      "metadata": {
        "id": "S8LzVwaLII95"
      }
    },
    {
      "cell_type": "code",
      "source": [
        "print(\"\\nVisualizing CNN Model Results:\")\n",
        "visualize_model_results(cnn_model, testloader, class_names)"
      ],
      "metadata": {
        "colab": {
          "base_uri": "https://localhost:8080/",
          "height": 275
        },
        "id": "D72IpKL0IA3g",
        "outputId": "53530e57-e533-477d-a991-5b5a599c5afe"
      },
      "execution_count": 39,
      "outputs": [
        {
          "output_type": "stream",
          "name": "stdout",
          "text": [
            "\n",
            "Visualizing CNN Model Results:\n"
          ]
        },
        {
          "output_type": "display_data",
          "data": {
            "text/plain": [
              "<Figure size 1200x400 with 5 Axes>"
            ],
            "image/png": "[encoded data removed]"
          },
          "metadata": {}
        }
      ]
    },
    {
      "cell_type": "markdown",
      "source": [
        "- Visualize the results for the ResNet model"
      ],
      "metadata": {
        "id": "ER0jXJTAITeF"
      }
    },
    {
      "cell_type": "code",
      "source": [
        "print(\"\\nVisualizing ResNet Model Results:\")\n",
        "visualize_model_results(resnet_model, testloader, class_names)"
      ],
      "metadata": {
        "colab": {
          "base_uri": "https://localhost:8080/",
          "height": 275
        },
        "id": "OVZOmZc7IdzT",
        "outputId": "ce2c3a8e-52c7-4baf-849a-d10cb9a8f541"
      },
      "execution_count": 40,
      "outputs": [
        {
          "output_type": "stream",
          "name": "stdout",
          "text": [
            "\n",
            "Visualizing ResNet Model Results:\n"
          ]
        },
        {
          "output_type": "display_data",
          "data": {
            "text/plain": [
              "<Figure size 1200x400 with 5 Axes>"
            ],
            "image/png": "[encoded data removed]"
          },
          "metadata": {}
        }
      ]
    },
    {
      "cell_type": "markdown",
      "source": [
        "# Comparing the Result"
      ],
      "metadata": {
        "id": "bpGYw0E5iYkb"
      }
    },
    {
      "cell_type": "code",
      "source": [
        "# Plot the accuracy comparisons between the three models\n",
        "epochs = range(1, 21)\n",
        "\n",
        "plt.plot(epochs, ffn_test_acc, label='Simple FeedForward Test Accuracy', linestyle='--', marker='o')\n",
        "plt.plot(epochs, cnn_test_acc, label='CNN Test Accuracy', linestyle='--', marker='o')\n",
        "plt.plot(epochs, resnet_test_acc, label='ResNet Test Accuracy', linestyle='--', marker='o')\n",
        "\n",
        "plt.title('Test Accuracy Comparison')\n",
        "plt.xlabel('Epochs')\n",
        "plt.ylabel('Accuracy (%)')\n",
        "plt.legend()\n",
        "plt.grid(True)\n",
        "plt.show()"
      ],
      "metadata": {
        "colab": {
          "base_uri": "https://localhost:8080/",
          "height": 472
        },
        "id": "hqt4hzddid8R",
        "outputId": "dfb85015-0101-4332-cfb5-38db2bb97765"
      },
      "execution_count": 35,
      "outputs": [
        {
          "output_type": "display_data",
          "data": {
            "text/plain": [
              "<Figure size 640x480 with 1 Axes>"
            ],
            "image/png": "[encoded data removed]"
          },
          "metadata": {}
        }
      ]
    }
  ]
}